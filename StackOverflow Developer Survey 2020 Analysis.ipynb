{
 "cells": [
  {
   "cell_type": "markdown",
   "metadata": {},
   "source": [
    "## StackOverflow Developer Survey 2020 Analysis\n",
    "\n",
    "### Overview\n",
    "For ten years now, StackOverflow  has been conducting an annual Developer Survey. Survey results have been made publicly available, and they have been analyzed from many different corners to bring light into a developer profile and trends in the industry. \n",
    "\n",
    "As a developer, I am a frequent user of StackOverflow, and always find it very helpful. I have specific questions that I want to find out answers to by analysing the latest Developer Survey result as of now (October, 2020). This survey was conducted in February 2020, right before the whole world entered the Covid-19 quarantine. I would be interested to compare what have changed since then in developers' profession and life in the upcoming survey. \n",
    "\n",
    "### Questions to explore:\n",
    "1. What is the most popular database in 2020?\n",
    "2. What is the profile of StackOverflow frequent users?\n",
    "3. What is the most important job factor for developers in 2020?\n",
    "\n",
    "[StackOverflow Developer Survey 2020](https://insights.stackoverflow.com/survey)\n",
    "\n",
    "My analysis process consists of three parts: \n",
    "1. **Data Exploration** - where I explore the data set and its attributes,\n",
    "2. **Data Preparation** - where I clean, tidy and transform the data set,\n",
    "3. **Data Analysis** - where I conduct analysis and find answers to my research questions."
   ]
  },
  {
   "cell_type": "markdown",
   "metadata": {},
   "source": [
    "## Data Exploration"
   ]
  },
  {
   "cell_type": "code",
   "execution_count": 4,
   "metadata": {},
   "outputs": [],
   "source": [
    "# importing packages and libraries\n",
    "import pandas as pd\n",
    "import numpy as np\n",
    "import matplotlib.pyplot as plt\n",
    "import seaborn as sns\n",
    "import warnings\n",
    "\n",
    "warnings.simplefilter('ignore')\n",
    "%matplotlib inline\n",
    "\n",
    "#importing survey results to a pandas dataframe\n",
    "df = pd.read_csv('survey_results_public.csv')"
   ]
  },
  {
   "cell_type": "code",
   "execution_count": 5,
   "metadata": {},
   "outputs": [
    {
     "data": {
      "text/html": [
       "<div>\n",
       "<style scoped>\n",
       "    .dataframe tbody tr th:only-of-type {\n",
       "        vertical-align: middle;\n",
       "    }\n",
       "\n",
       "    .dataframe tbody tr th {\n",
       "        vertical-align: top;\n",
       "    }\n",
       "\n",
       "    .dataframe thead th {\n",
       "        text-align: right;\n",
       "    }\n",
       "</style>\n",
       "<table border=\"1\" class=\"dataframe\">\n",
       "  <thead>\n",
       "    <tr style=\"text-align: right;\">\n",
       "      <th></th>\n",
       "      <th>Respondent</th>\n",
       "      <th>MainBranch</th>\n",
       "      <th>Hobbyist</th>\n",
       "      <th>Age</th>\n",
       "      <th>Age1stCode</th>\n",
       "      <th>CompFreq</th>\n",
       "      <th>CompTotal</th>\n",
       "      <th>ConvertedComp</th>\n",
       "      <th>Country</th>\n",
       "      <th>CurrencyDesc</th>\n",
       "      <th>...</th>\n",
       "      <th>SurveyEase</th>\n",
       "      <th>SurveyLength</th>\n",
       "      <th>Trans</th>\n",
       "      <th>UndergradMajor</th>\n",
       "      <th>WebframeDesireNextYear</th>\n",
       "      <th>WebframeWorkedWith</th>\n",
       "      <th>WelcomeChange</th>\n",
       "      <th>WorkWeekHrs</th>\n",
       "      <th>YearsCode</th>\n",
       "      <th>YearsCodePro</th>\n",
       "    </tr>\n",
       "  </thead>\n",
       "  <tbody>\n",
       "    <tr>\n",
       "      <th>0</th>\n",
       "      <td>1</td>\n",
       "      <td>I am a developer by profession</td>\n",
       "      <td>Yes</td>\n",
       "      <td>NaN</td>\n",
       "      <td>13</td>\n",
       "      <td>Monthly</td>\n",
       "      <td>NaN</td>\n",
       "      <td>NaN</td>\n",
       "      <td>Germany</td>\n",
       "      <td>European Euro</td>\n",
       "      <td>...</td>\n",
       "      <td>Neither easy nor difficult</td>\n",
       "      <td>Appropriate in length</td>\n",
       "      <td>No</td>\n",
       "      <td>Computer science, computer engineering, or sof...</td>\n",
       "      <td>ASP.NET Core</td>\n",
       "      <td>ASP.NET;ASP.NET Core</td>\n",
       "      <td>Just as welcome now as I felt last year</td>\n",
       "      <td>50.0</td>\n",
       "      <td>36</td>\n",
       "      <td>27</td>\n",
       "    </tr>\n",
       "    <tr>\n",
       "      <th>1</th>\n",
       "      <td>2</td>\n",
       "      <td>I am a developer by profession</td>\n",
       "      <td>No</td>\n",
       "      <td>NaN</td>\n",
       "      <td>19</td>\n",
       "      <td>NaN</td>\n",
       "      <td>NaN</td>\n",
       "      <td>NaN</td>\n",
       "      <td>United Kingdom</td>\n",
       "      <td>Pound sterling</td>\n",
       "      <td>...</td>\n",
       "      <td>NaN</td>\n",
       "      <td>NaN</td>\n",
       "      <td>NaN</td>\n",
       "      <td>Computer science, computer engineering, or sof...</td>\n",
       "      <td>NaN</td>\n",
       "      <td>NaN</td>\n",
       "      <td>Somewhat more welcome now than last year</td>\n",
       "      <td>NaN</td>\n",
       "      <td>7</td>\n",
       "      <td>4</td>\n",
       "    </tr>\n",
       "    <tr>\n",
       "      <th>2</th>\n",
       "      <td>3</td>\n",
       "      <td>I code primarily as a hobby</td>\n",
       "      <td>Yes</td>\n",
       "      <td>NaN</td>\n",
       "      <td>15</td>\n",
       "      <td>NaN</td>\n",
       "      <td>NaN</td>\n",
       "      <td>NaN</td>\n",
       "      <td>Russian Federation</td>\n",
       "      <td>NaN</td>\n",
       "      <td>...</td>\n",
       "      <td>Neither easy nor difficult</td>\n",
       "      <td>Appropriate in length</td>\n",
       "      <td>NaN</td>\n",
       "      <td>NaN</td>\n",
       "      <td>NaN</td>\n",
       "      <td>NaN</td>\n",
       "      <td>Somewhat more welcome now than last year</td>\n",
       "      <td>NaN</td>\n",
       "      <td>4</td>\n",
       "      <td>NaN</td>\n",
       "    </tr>\n",
       "    <tr>\n",
       "      <th>3</th>\n",
       "      <td>4</td>\n",
       "      <td>I am a developer by profession</td>\n",
       "      <td>Yes</td>\n",
       "      <td>25.0</td>\n",
       "      <td>18</td>\n",
       "      <td>NaN</td>\n",
       "      <td>NaN</td>\n",
       "      <td>NaN</td>\n",
       "      <td>Albania</td>\n",
       "      <td>Albanian lek</td>\n",
       "      <td>...</td>\n",
       "      <td>NaN</td>\n",
       "      <td>NaN</td>\n",
       "      <td>No</td>\n",
       "      <td>Computer science, computer engineering, or sof...</td>\n",
       "      <td>NaN</td>\n",
       "      <td>NaN</td>\n",
       "      <td>Somewhat less welcome now than last year</td>\n",
       "      <td>40.0</td>\n",
       "      <td>7</td>\n",
       "      <td>4</td>\n",
       "    </tr>\n",
       "    <tr>\n",
       "      <th>4</th>\n",
       "      <td>5</td>\n",
       "      <td>I used to be a developer by profession, but no...</td>\n",
       "      <td>Yes</td>\n",
       "      <td>31.0</td>\n",
       "      <td>16</td>\n",
       "      <td>NaN</td>\n",
       "      <td>NaN</td>\n",
       "      <td>NaN</td>\n",
       "      <td>United States</td>\n",
       "      <td>NaN</td>\n",
       "      <td>...</td>\n",
       "      <td>Easy</td>\n",
       "      <td>Too short</td>\n",
       "      <td>No</td>\n",
       "      <td>Computer science, computer engineering, or sof...</td>\n",
       "      <td>Django;Ruby on Rails</td>\n",
       "      <td>Ruby on Rails</td>\n",
       "      <td>Just as welcome now as I felt last year</td>\n",
       "      <td>NaN</td>\n",
       "      <td>15</td>\n",
       "      <td>8</td>\n",
       "    </tr>\n",
       "  </tbody>\n",
       "</table>\n",
       "<p>5 rows × 61 columns</p>\n",
       "</div>"
      ],
      "text/plain": [
       "   Respondent                                         MainBranch Hobbyist  \\\n",
       "0           1                     I am a developer by profession      Yes   \n",
       "1           2                     I am a developer by profession       No   \n",
       "2           3                        I code primarily as a hobby      Yes   \n",
       "3           4                     I am a developer by profession      Yes   \n",
       "4           5  I used to be a developer by profession, but no...      Yes   \n",
       "\n",
       "    Age Age1stCode CompFreq  CompTotal  ConvertedComp             Country  \\\n",
       "0   NaN         13  Monthly        NaN            NaN             Germany   \n",
       "1   NaN         19      NaN        NaN            NaN      United Kingdom   \n",
       "2   NaN         15      NaN        NaN            NaN  Russian Federation   \n",
       "3  25.0         18      NaN        NaN            NaN             Albania   \n",
       "4  31.0         16      NaN        NaN            NaN       United States   \n",
       "\n",
       "     CurrencyDesc  ...                  SurveyEase           SurveyLength  \\\n",
       "0   European Euro  ...  Neither easy nor difficult  Appropriate in length   \n",
       "1  Pound sterling  ...                         NaN                    NaN   \n",
       "2             NaN  ...  Neither easy nor difficult  Appropriate in length   \n",
       "3    Albanian lek  ...                         NaN                    NaN   \n",
       "4             NaN  ...                        Easy              Too short   \n",
       "\n",
       "  Trans                                     UndergradMajor  \\\n",
       "0    No  Computer science, computer engineering, or sof...   \n",
       "1   NaN  Computer science, computer engineering, or sof...   \n",
       "2   NaN                                                NaN   \n",
       "3    No  Computer science, computer engineering, or sof...   \n",
       "4    No  Computer science, computer engineering, or sof...   \n",
       "\n",
       "  WebframeDesireNextYear    WebframeWorkedWith  \\\n",
       "0           ASP.NET Core  ASP.NET;ASP.NET Core   \n",
       "1                    NaN                   NaN   \n",
       "2                    NaN                   NaN   \n",
       "3                    NaN                   NaN   \n",
       "4   Django;Ruby on Rails         Ruby on Rails   \n",
       "\n",
       "                              WelcomeChange WorkWeekHrs YearsCode YearsCodePro  \n",
       "0   Just as welcome now as I felt last year        50.0        36           27  \n",
       "1  Somewhat more welcome now than last year         NaN         7            4  \n",
       "2  Somewhat more welcome now than last year         NaN         4          NaN  \n",
       "3  Somewhat less welcome now than last year        40.0         7            4  \n",
       "4   Just as welcome now as I felt last year         NaN        15            8  \n",
       "\n",
       "[5 rows x 61 columns]"
      ]
     },
     "execution_count": 5,
     "metadata": {},
     "output_type": "execute_result"
    }
   ],
   "source": [
    "# taking a peak into the dataframe\n",
    "df.head()"
   ]
  },
  {
   "cell_type": "code",
   "execution_count": 6,
   "metadata": {
    "scrolled": true
   },
   "outputs": [
    {
     "data": {
      "text/plain": [
       "(64461, 61)"
      ]
     },
     "execution_count": 6,
     "metadata": {},
     "output_type": "execute_result"
    }
   ],
   "source": [
    "df.shape "
   ]
  },
  {
   "cell_type": "code",
   "execution_count": 7,
   "metadata": {},
   "outputs": [
    {
     "name": "stdout",
     "output_type": "stream",
     "text": [
      "There are 64461 rows in the StackOverflow Developer Survey 2020.\n"
     ]
    }
   ],
   "source": [
    "print('There are', df.shape[0], 'rows in the StackOverflow Developer Survey 2020.')"
   ]
  },
  {
   "cell_type": "code",
   "execution_count": 8,
   "metadata": {
    "scrolled": true
   },
   "outputs": [
    {
     "data": {
      "text/html": [
       "<div>\n",
       "<style scoped>\n",
       "    .dataframe tbody tr th:only-of-type {\n",
       "        vertical-align: middle;\n",
       "    }\n",
       "\n",
       "    .dataframe tbody tr th {\n",
       "        vertical-align: top;\n",
       "    }\n",
       "\n",
       "    .dataframe thead th {\n",
       "        text-align: right;\n",
       "    }\n",
       "</style>\n",
       "<table border=\"1\" class=\"dataframe\">\n",
       "  <thead>\n",
       "    <tr style=\"text-align: right;\">\n",
       "      <th></th>\n",
       "      <th>Respondent</th>\n",
       "      <th>Age</th>\n",
       "      <th>CompTotal</th>\n",
       "      <th>ConvertedComp</th>\n",
       "      <th>WorkWeekHrs</th>\n",
       "    </tr>\n",
       "  </thead>\n",
       "  <tbody>\n",
       "    <tr>\n",
       "      <th>count</th>\n",
       "      <td>64461.000000</td>\n",
       "      <td>45446.000000</td>\n",
       "      <td>3.482600e+04</td>\n",
       "      <td>3.475600e+04</td>\n",
       "      <td>41151.000000</td>\n",
       "    </tr>\n",
       "    <tr>\n",
       "      <th>mean</th>\n",
       "      <td>32554.079738</td>\n",
       "      <td>30.834111</td>\n",
       "      <td>3.190464e+242</td>\n",
       "      <td>1.037561e+05</td>\n",
       "      <td>40.782174</td>\n",
       "    </tr>\n",
       "    <tr>\n",
       "      <th>std</th>\n",
       "      <td>18967.442360</td>\n",
       "      <td>9.585392</td>\n",
       "      <td>inf</td>\n",
       "      <td>2.268853e+05</td>\n",
       "      <td>17.816383</td>\n",
       "    </tr>\n",
       "    <tr>\n",
       "      <th>min</th>\n",
       "      <td>1.000000</td>\n",
       "      <td>1.000000</td>\n",
       "      <td>0.000000e+00</td>\n",
       "      <td>0.000000e+00</td>\n",
       "      <td>1.000000</td>\n",
       "    </tr>\n",
       "    <tr>\n",
       "      <th>25%</th>\n",
       "      <td>16116.000000</td>\n",
       "      <td>24.000000</td>\n",
       "      <td>2.000000e+04</td>\n",
       "      <td>2.464800e+04</td>\n",
       "      <td>40.000000</td>\n",
       "    </tr>\n",
       "    <tr>\n",
       "      <th>50%</th>\n",
       "      <td>32231.000000</td>\n",
       "      <td>29.000000</td>\n",
       "      <td>6.300000e+04</td>\n",
       "      <td>5.404900e+04</td>\n",
       "      <td>40.000000</td>\n",
       "    </tr>\n",
       "    <tr>\n",
       "      <th>75%</th>\n",
       "      <td>49142.000000</td>\n",
       "      <td>35.000000</td>\n",
       "      <td>1.250000e+05</td>\n",
       "      <td>9.500000e+04</td>\n",
       "      <td>44.000000</td>\n",
       "    </tr>\n",
       "    <tr>\n",
       "      <th>max</th>\n",
       "      <td>65639.000000</td>\n",
       "      <td>279.000000</td>\n",
       "      <td>1.111111e+247</td>\n",
       "      <td>2.000000e+06</td>\n",
       "      <td>475.000000</td>\n",
       "    </tr>\n",
       "  </tbody>\n",
       "</table>\n",
       "</div>"
      ],
      "text/plain": [
       "         Respondent           Age      CompTotal  ConvertedComp   WorkWeekHrs\n",
       "count  64461.000000  45446.000000   3.482600e+04   3.475600e+04  41151.000000\n",
       "mean   32554.079738     30.834111  3.190464e+242   1.037561e+05     40.782174\n",
       "std    18967.442360      9.585392            inf   2.268853e+05     17.816383\n",
       "min        1.000000      1.000000   0.000000e+00   0.000000e+00      1.000000\n",
       "25%    16116.000000     24.000000   2.000000e+04   2.464800e+04     40.000000\n",
       "50%    32231.000000     29.000000   6.300000e+04   5.404900e+04     40.000000\n",
       "75%    49142.000000     35.000000   1.250000e+05   9.500000e+04     44.000000\n",
       "max    65639.000000    279.000000  1.111111e+247   2.000000e+06    475.000000"
      ]
     },
     "execution_count": 8,
     "metadata": {},
     "output_type": "execute_result"
    }
   ],
   "source": [
    "# summary statistics of numeric fields\n",
    "df.describe()"
   ]
  },
  {
   "cell_type": "code",
   "execution_count": 9,
   "metadata": {
    "scrolled": true
   },
   "outputs": [
    {
     "data": {
      "text/plain": [
       "['Respondent',\n",
       " 'MainBranch',\n",
       " 'Hobbyist',\n",
       " 'Age',\n",
       " 'Age1stCode',\n",
       " 'CompFreq',\n",
       " 'CompTotal',\n",
       " 'ConvertedComp',\n",
       " 'Country',\n",
       " 'CurrencyDesc',\n",
       " 'CurrencySymbol',\n",
       " 'DatabaseDesireNextYear',\n",
       " 'DatabaseWorkedWith',\n",
       " 'DevType',\n",
       " 'EdLevel',\n",
       " 'Employment',\n",
       " 'Ethnicity',\n",
       " 'Gender',\n",
       " 'JobFactors',\n",
       " 'JobSat',\n",
       " 'JobSeek',\n",
       " 'LanguageDesireNextYear',\n",
       " 'LanguageWorkedWith',\n",
       " 'MiscTechDesireNextYear',\n",
       " 'MiscTechWorkedWith',\n",
       " 'NEWCollabToolsDesireNextYear',\n",
       " 'NEWCollabToolsWorkedWith',\n",
       " 'NEWDevOps',\n",
       " 'NEWDevOpsImpt',\n",
       " 'NEWEdImpt',\n",
       " 'NEWJobHunt',\n",
       " 'NEWJobHuntResearch',\n",
       " 'NEWLearn',\n",
       " 'NEWOffTopic',\n",
       " 'NEWOnboardGood',\n",
       " 'NEWOtherComms',\n",
       " 'NEWOvertime',\n",
       " 'NEWPurchaseResearch',\n",
       " 'NEWPurpleLink',\n",
       " 'NEWSOSites',\n",
       " 'NEWStuck',\n",
       " 'OpSys',\n",
       " 'OrgSize',\n",
       " 'PlatformDesireNextYear',\n",
       " 'PlatformWorkedWith',\n",
       " 'PurchaseWhat',\n",
       " 'Sexuality',\n",
       " 'SOAccount',\n",
       " 'SOComm',\n",
       " 'SOPartFreq',\n",
       " 'SOVisitFreq',\n",
       " 'SurveyEase',\n",
       " 'SurveyLength',\n",
       " 'Trans',\n",
       " 'UndergradMajor',\n",
       " 'WebframeDesireNextYear',\n",
       " 'WebframeWorkedWith',\n",
       " 'WelcomeChange',\n",
       " 'WorkWeekHrs',\n",
       " 'YearsCode',\n",
       " 'YearsCodePro']"
      ]
     },
     "execution_count": 9,
     "metadata": {},
     "output_type": "execute_result"
    }
   ],
   "source": [
    "# list of all fields\n",
    "list(df.columns.values)"
   ]
  },
  {
   "cell_type": "markdown",
   "metadata": {},
   "source": [
    "> Below I will explore fields relevant to my questions."
   ]
  },
  {
   "cell_type": "code",
   "execution_count": 10,
   "metadata": {
    "scrolled": true
   },
   "outputs": [
    {
     "data": {
      "text/plain": [
       "MySQL                                                                             3827\n",
       "Microsoft SQL Server                                                              3298\n",
       "PostgreSQL                                                                        1937\n",
       "SQLite                                                                            1313\n",
       "Microsoft SQL Server;MySQL                                                        1158\n",
       "                                                                                  ... \n",
       "Cassandra;DynamoDB;MongoDB;MySQL;Oracle                                              1\n",
       "DynamoDB;Firebase;MongoDB;Oracle;PostgreSQL;Redis                                    1\n",
       "Couchbase;Elasticsearch;Firebase;MariaDB;Microsoft SQL Server;MySQL;PostgreSQL       1\n",
       "DynamoDB;Elasticsearch;Firebase;MySQL;Redis                                          1\n",
       "Couchbase;Elasticsearch;MariaDB;Microsoft SQL Server;MySQL;PostgreSQL;SQLite         1\n",
       "Name: DatabaseWorkedWith, Length: 2808, dtype: int64"
      ]
     },
     "execution_count": 10,
     "metadata": {},
     "output_type": "execute_result"
    }
   ],
   "source": [
    "df['DatabaseWorkedWith'].value_counts()"
   ]
  },
  {
   "cell_type": "markdown",
   "metadata": {},
   "source": [
    ">  Seems like multiple values could be selected in **DatabaseWorkedWith** column. If I want to use this column for analysis, it would be a good idea to split each value. "
   ]
  },
  {
   "cell_type": "code",
   "execution_count": 11,
   "metadata": {
    "scrolled": true
   },
   "outputs": [
    {
     "data": {
      "text/plain": [
       "array(['Microsoft SQL Server', nan, 'MySQL;PostgreSQL', ...,\n",
       "       'Elasticsearch;MySQL;Oracle;Redis;SQLite',\n",
       "       'Couchbase;DynamoDB;Elasticsearch;Firebase;IBM DB2;Oracle;PostgreSQL',\n",
       "       'Elasticsearch;IBM DB2;Oracle'], dtype=object)"
      ]
     },
     "execution_count": 11,
     "metadata": {},
     "output_type": "execute_result"
    }
   ],
   "source": [
    "df['DatabaseDesireNextYear'].unique()"
   ]
  },
  {
   "cell_type": "markdown",
   "metadata": {},
   "source": [
    "> **DatabaseDesireNextYear** column values need to be separated."
   ]
  },
  {
   "cell_type": "code",
   "execution_count": 12,
   "metadata": {},
   "outputs": [
    {
     "data": {
      "text/plain": [
       "Daily or almost daily                                 17372\n",
       "Multiple times per day                                16273\n",
       "A few times per week                                  13493\n",
       "A few times per month or weekly                        7901\n",
       "Less than once per month or monthly                    1739\n",
       "I have never visited Stack Overflow (before today)      192\n",
       "Name: SOVisitFreq, dtype: int64"
      ]
     },
     "execution_count": 12,
     "metadata": {},
     "output_type": "execute_result"
    }
   ],
   "source": [
    "df['SOVisitFreq'].value_counts()"
   ]
  },
  {
   "cell_type": "markdown",
   "metadata": {},
   "source": [
    "> Althouth a bit long, values of **SOVisitFreq** column does not require a transformation."
   ]
  },
  {
   "cell_type": "code",
   "execution_count": 13,
   "metadata": {
    "scrolled": true
   },
   "outputs": [
    {
     "data": {
      "text/plain": [
       "Man                                                            46013\n",
       "Woman                                                           3844\n",
       "Non-binary, genderqueer, or gender non-conforming                385\n",
       "Man;Non-binary, genderqueer, or gender non-conforming            121\n",
       "Woman;Non-binary, genderqueer, or gender non-conforming           92\n",
       "Woman;Man                                                         76\n",
       "Woman;Man;Non-binary, genderqueer, or gender non-conforming       26\n",
       "Name: Gender, dtype: int64"
      ]
     },
     "execution_count": 13,
     "metadata": {},
     "output_type": "execute_result"
    }
   ],
   "source": [
    "df['Gender'].value_counts()"
   ]
  },
  {
   "cell_type": "markdown",
   "metadata": {},
   "source": [
    "> **Gender** column values either need to be separated or simplified for better or easier analysis."
   ]
  },
  {
   "cell_type": "code",
   "execution_count": 14,
   "metadata": {},
   "outputs": [
    {
     "data": {
      "text/plain": [
       "25.0    2693\n",
       "28.0    2412\n",
       "30.0    2406\n",
       "26.0    2391\n",
       "27.0    2338\n",
       "        ... \n",
       "23.8       1\n",
       "95.0       1\n",
       "31.5       1\n",
       "20.5       1\n",
       "16.5       1\n",
       "Name: Age, Length: 110, dtype: int64"
      ]
     },
     "execution_count": 14,
     "metadata": {},
     "output_type": "execute_result"
    }
   ],
   "source": [
    "df['Age'].value_counts()"
   ]
  },
  {
   "cell_type": "code",
   "execution_count": 15,
   "metadata": {},
   "outputs": [
    {
     "name": "stdout",
     "output_type": "stream",
     "text": [
      "Min val of age: 1.0  and max val of age: 279.0\n"
     ]
    }
   ],
   "source": [
    "print('Min val of age:', df['Age'].min(), ' and max val of age:', df['Age'].max())"
   ]
  },
  {
   "cell_type": "markdown",
   "metadata": {},
   "source": [
    "> **Age** column values seem to be unreliable as 1 year olds do not use StackOverflow, and humans can not live for 279 year. For analysis purposes, I may need to get a specific age group, for example 15 - 60. "
   ]
  },
  {
   "cell_type": "code",
   "execution_count": 16,
   "metadata": {
    "scrolled": true
   },
   "outputs": [
    {
     "data": {
      "text/plain": [
       "array(['36', '7', '4', '15', '6', '17', '8', '10', '35', '5', '37', '19',\n",
       "       '9', '22', '30', '23', '20', '2', 'Less than 1 year', '3', '13',\n",
       "       '25', '16', '43', '11', '38', '33', nan, '24', '21', '12', '40',\n",
       "       '27', '50', '46', '14', '18', '28', '32', '44', '26', '42', '31',\n",
       "       '34', '29', '1', '39', '41', '45', 'More than 50 years', '47',\n",
       "       '49', '48'], dtype=object)"
      ]
     },
     "execution_count": 16,
     "metadata": {},
     "output_type": "execute_result"
    }
   ],
   "source": [
    "df['YearsCode'].unique()"
   ]
  },
  {
   "cell_type": "code",
   "execution_count": 17,
   "metadata": {
    "scrolled": true
   },
   "outputs": [
    {
     "data": {
      "text/plain": [
       "array(['27', '4', nan, '8', '13', '2', '7', '20', '1', '23', '3', '12',\n",
       "       '17', '18', '10', '14', '29', '6', '28', '9', '15', '11', '16',\n",
       "       '25', 'Less than 1 year', '5', '21', '19', '35', '24', '32', '22',\n",
       "       '30', '38', '26', '40', '33', '31', 'More than 50 years', '34',\n",
       "       '36', '39', '37', '41', '45', '47', '42', '46', '50', '43', '44',\n",
       "       '48', '49'], dtype=object)"
      ]
     },
     "execution_count": 17,
     "metadata": {},
     "output_type": "execute_result"
    }
   ],
   "source": [
    "df['YearsCodePro'].unique()"
   ]
  },
  {
   "cell_type": "markdown",
   "metadata": {},
   "source": [
    "> **YearsCode** and **YearsCodePro** column values are cleaner, but I may need to remove non-numeric values and convert the column type to numeric. "
   ]
  },
  {
   "cell_type": "code",
   "execution_count": 18,
   "metadata": {
    "scrolled": false
   },
   "outputs": [
    {
     "data": {
      "text/plain": [
       "Flex time or a flexible schedule;Languages, frameworks, and other technologies I’d be working with;Remote work options                                               2777\n",
       "Languages, frameworks, and other technologies I’d be working with;Office environment or company culture;Opportunities for professional development                   2570\n",
       "Flex time or a flexible schedule;Languages, frameworks, and other technologies I’d be working with;Office environment or company culture                             2508\n",
       "Flex time or a flexible schedule;Languages, frameworks, and other technologies I’d be working with;Opportunities for professional development                        1666\n",
       "Flex time or a flexible schedule;Office environment or company culture;Opportunities for professional development                                                    1650\n",
       "Flex time or a flexible schedule;Remote work options;Office environment or company culture                                                                           1503\n",
       "Flex time or a flexible schedule;Remote work options;Opportunities for professional development                                                                      1473\n",
       "Languages, frameworks, and other technologies I’d be working with;Remote work options;Opportunities for professional development                                     1285\n",
       "Languages, frameworks, and other technologies I’d be working with;Remote work options;Office environment or company culture                                          1131\n",
       "Languages, frameworks, and other technologies I’d be working with;How widely used or impactful my work output would be;Opportunities for professional development    1000\n",
       "Name: JobFactors, dtype: int64"
      ]
     },
     "execution_count": 18,
     "metadata": {},
     "output_type": "execute_result"
    }
   ],
   "source": [
    "df['JobFactors'].value_counts().nlargest(10)"
   ]
  },
  {
   "cell_type": "markdown",
   "metadata": {},
   "source": [
    "> **JobFactors** column values need to be separated."
   ]
  },
  {
   "cell_type": "code",
   "execution_count": 19,
   "metadata": {
    "scrolled": true
   },
   "outputs": [
    {
     "data": {
      "text/plain": [
       "I am a developer by profession                                                   47193\n",
       "I am a student who is learning to code                                            7970\n",
       "I am not primarily a developer, but I write code sometimes as part of my work     5502\n",
       "I code primarily as a hobby                                                       2314\n",
       "I used to be a developer by profession, but no longer am                          1183\n",
       "Name: MainBranch, dtype: int64"
      ]
     },
     "execution_count": 19,
     "metadata": {},
     "output_type": "execute_result"
    }
   ],
   "source": [
    "df['MainBranch'].value_counts()"
   ]
  },
  {
   "cell_type": "code",
   "execution_count": 20,
   "metadata": {},
   "outputs": [
    {
     "data": {
      "text/plain": [
       "Yes    50388\n",
       "No     14028\n",
       "Name: Hobbyist, dtype: int64"
      ]
     },
     "execution_count": 20,
     "metadata": {},
     "output_type": "execute_result"
    }
   ],
   "source": [
    "df['Hobbyist'].value_counts()"
   ]
  },
  {
   "cell_type": "code",
   "execution_count": 21,
   "metadata": {},
   "outputs": [
    {
     "data": {
      "text/plain": [
       "United States       12469\n",
       "India                8403\n",
       "United Kingdom       3896\n",
       "Germany              3890\n",
       "Canada               2191\n",
       "                    ...  \n",
       "North Korea             1\n",
       "Grenada                 1\n",
       "Marshall Islands        1\n",
       "Gabon                   1\n",
       "Lesotho                 1\n",
       "Name: Country, Length: 183, dtype: int64"
      ]
     },
     "execution_count": 21,
     "metadata": {},
     "output_type": "execute_result"
    }
   ],
   "source": [
    "df['Country'].value_counts()"
   ]
  },
  {
   "cell_type": "code",
   "execution_count": 22,
   "metadata": {},
   "outputs": [
    {
     "data": {
      "text/plain": [
       "I’m not actively looking, but I am open to new opportunities    29776\n",
       "I am not interested in new job opportunities                    13001\n",
       "I am actively looking for a job                                  8950\n",
       "Name: JobSeek, dtype: int64"
      ]
     },
     "execution_count": 22,
     "metadata": {},
     "output_type": "execute_result"
    }
   ],
   "source": [
    "df['JobSeek'].value_counts()"
   ]
  },
  {
   "cell_type": "markdown",
   "metadata": {},
   "source": [
    ">  **MainBranch**, **Country**, **Hobbyist** and **Jobseek** column values are clean, and do not need a transformation."
   ]
  },
  {
   "cell_type": "markdown",
   "metadata": {},
   "source": [
    "## Data Preparation"
   ]
  },
  {
   "cell_type": "markdown",
   "metadata": {},
   "source": [
    "> In this section, I will prepare the data to perform analysis. \n",
    "I will transform the shape of data, columns, rows and values when necessary."
   ]
  },
  {
   "cell_type": "code",
   "execution_count": 23,
   "metadata": {
    "scrolled": false
   },
   "outputs": [
    {
     "data": {
      "text/html": [
       "<div>\n",
       "<style scoped>\n",
       "    .dataframe tbody tr th:only-of-type {\n",
       "        vertical-align: middle;\n",
       "    }\n",
       "\n",
       "    .dataframe tbody tr th {\n",
       "        vertical-align: top;\n",
       "    }\n",
       "\n",
       "    .dataframe thead th {\n",
       "        text-align: right;\n",
       "    }\n",
       "</style>\n",
       "<table border=\"1\" class=\"dataframe\">\n",
       "  <thead>\n",
       "    <tr style=\"text-align: right;\">\n",
       "      <th></th>\n",
       "      <th>Respondent</th>\n",
       "      <th>Gender</th>\n",
       "      <th>Age</th>\n",
       "      <th>JobFactors</th>\n",
       "      <th>DatabaseWorkedWith</th>\n",
       "      <th>DatabaseDesireNextYear</th>\n",
       "      <th>YearsCode</th>\n",
       "      <th>YearsCodePro</th>\n",
       "      <th>SOVisitFreq</th>\n",
       "      <th>MainBranch</th>\n",
       "      <th>Hobbyist</th>\n",
       "      <th>Country</th>\n",
       "      <th>JobSeek</th>\n",
       "    </tr>\n",
       "  </thead>\n",
       "  <tbody>\n",
       "    <tr>\n",
       "      <th>0</th>\n",
       "      <td>1</td>\n",
       "      <td>Man</td>\n",
       "      <td>NaN</td>\n",
       "      <td>Languages, frameworks, and other technologies ...</td>\n",
       "      <td>Elasticsearch;Microsoft SQL Server;Oracle</td>\n",
       "      <td>Microsoft SQL Server</td>\n",
       "      <td>36</td>\n",
       "      <td>27</td>\n",
       "      <td>Multiple times per day</td>\n",
       "      <td>I am a developer by profession</td>\n",
       "      <td>Yes</td>\n",
       "      <td>Germany</td>\n",
       "      <td>I am not interested in new job opportunities</td>\n",
       "    </tr>\n",
       "    <tr>\n",
       "      <th>1</th>\n",
       "      <td>2</td>\n",
       "      <td>NaN</td>\n",
       "      <td>NaN</td>\n",
       "      <td>NaN</td>\n",
       "      <td>NaN</td>\n",
       "      <td>NaN</td>\n",
       "      <td>7</td>\n",
       "      <td>4</td>\n",
       "      <td>Multiple times per day</td>\n",
       "      <td>I am a developer by profession</td>\n",
       "      <td>No</td>\n",
       "      <td>United Kingdom</td>\n",
       "      <td>I am not interested in new job opportunities</td>\n",
       "    </tr>\n",
       "    <tr>\n",
       "      <th>2</th>\n",
       "      <td>3</td>\n",
       "      <td>NaN</td>\n",
       "      <td>NaN</td>\n",
       "      <td>NaN</td>\n",
       "      <td>NaN</td>\n",
       "      <td>NaN</td>\n",
       "      <td>4</td>\n",
       "      <td>NaN</td>\n",
       "      <td>Daily or almost daily</td>\n",
       "      <td>I code primarily as a hobby</td>\n",
       "      <td>Yes</td>\n",
       "      <td>Russian Federation</td>\n",
       "      <td>NaN</td>\n",
       "    </tr>\n",
       "    <tr>\n",
       "      <th>3</th>\n",
       "      <td>4</td>\n",
       "      <td>Man</td>\n",
       "      <td>25.0</td>\n",
       "      <td>Flex time or a flexible schedule;Office enviro...</td>\n",
       "      <td>NaN</td>\n",
       "      <td>NaN</td>\n",
       "      <td>7</td>\n",
       "      <td>4</td>\n",
       "      <td>Multiple times per day</td>\n",
       "      <td>I am a developer by profession</td>\n",
       "      <td>Yes</td>\n",
       "      <td>Albania</td>\n",
       "      <td>I’m not actively looking, but I am open to new...</td>\n",
       "    </tr>\n",
       "    <tr>\n",
       "      <th>4</th>\n",
       "      <td>5</td>\n",
       "      <td>Man</td>\n",
       "      <td>31.0</td>\n",
       "      <td>NaN</td>\n",
       "      <td>MySQL;PostgreSQL;Redis;SQLite</td>\n",
       "      <td>MySQL;PostgreSQL</td>\n",
       "      <td>15</td>\n",
       "      <td>8</td>\n",
       "      <td>A few times per month or weekly</td>\n",
       "      <td>I used to be a developer by profession, but no...</td>\n",
       "      <td>Yes</td>\n",
       "      <td>United States</td>\n",
       "      <td>NaN</td>\n",
       "    </tr>\n",
       "  </tbody>\n",
       "</table>\n",
       "</div>"
      ],
      "text/plain": [
       "   Respondent Gender   Age                                         JobFactors  \\\n",
       "0           1    Man   NaN  Languages, frameworks, and other technologies ...   \n",
       "1           2    NaN   NaN                                                NaN   \n",
       "2           3    NaN   NaN                                                NaN   \n",
       "3           4    Man  25.0  Flex time or a flexible schedule;Office enviro...   \n",
       "4           5    Man  31.0                                                NaN   \n",
       "\n",
       "                          DatabaseWorkedWith DatabaseDesireNextYear YearsCode  \\\n",
       "0  Elasticsearch;Microsoft SQL Server;Oracle   Microsoft SQL Server        36   \n",
       "1                                        NaN                    NaN         7   \n",
       "2                                        NaN                    NaN         4   \n",
       "3                                        NaN                    NaN         7   \n",
       "4              MySQL;PostgreSQL;Redis;SQLite       MySQL;PostgreSQL        15   \n",
       "\n",
       "  YearsCodePro                      SOVisitFreq  \\\n",
       "0           27           Multiple times per day   \n",
       "1            4           Multiple times per day   \n",
       "2          NaN            Daily or almost daily   \n",
       "3            4           Multiple times per day   \n",
       "4            8  A few times per month or weekly   \n",
       "\n",
       "                                          MainBranch Hobbyist  \\\n",
       "0                     I am a developer by profession      Yes   \n",
       "1                     I am a developer by profession       No   \n",
       "2                        I code primarily as a hobby      Yes   \n",
       "3                     I am a developer by profession      Yes   \n",
       "4  I used to be a developer by profession, but no...      Yes   \n",
       "\n",
       "              Country                                            JobSeek  \n",
       "0             Germany       I am not interested in new job opportunities  \n",
       "1      United Kingdom       I am not interested in new job opportunities  \n",
       "2  Russian Federation                                                NaN  \n",
       "3             Albania  I’m not actively looking, but I am open to new...  \n",
       "4       United States                                                NaN  "
      ]
     },
     "execution_count": 23,
     "metadata": {},
     "output_type": "execute_result"
    }
   ],
   "source": [
    "# Drop unnecessary columns\n",
    "df = df[['Respondent', 'Gender', 'Age', 'JobFactors','DatabaseWorkedWith', 'DatabaseDesireNextYear', \n",
    "                  'YearsCode', 'YearsCodePro', 'SOVisitFreq','MainBranch',  'Hobbyist','Country', 'JobSeek']]\n",
    "df.head()"
   ]
  },
  {
   "cell_type": "markdown",
   "metadata": {},
   "source": [
    "> Above I simplified the dataframe with only columns that interest me to find answers to the questions of research. "
   ]
  },
  {
   "cell_type": "code",
   "execution_count": 24,
   "metadata": {},
   "outputs": [
    {
     "data": {
      "text/plain": [
       "Respondent                    0\n",
       "Gender                    13904\n",
       "Age                       19015\n",
       "JobFactors                15112\n",
       "DatabaseWorkedWith        14924\n",
       "DatabaseDesireNextYear    20391\n",
       "YearsCode                  6777\n",
       "YearsCodePro              18112\n",
       "SOVisitFreq                7491\n",
       "MainBranch                  299\n",
       "Hobbyist                     45\n",
       "Country                     389\n",
       "JobSeek                   12734\n",
       "dtype: int64"
      ]
     },
     "execution_count": 24,
     "metadata": {},
     "output_type": "execute_result"
    }
   ],
   "source": [
    "# number of null values before cleaning\n",
    "df.isnull().sum()"
   ]
  },
  {
   "cell_type": "code",
   "execution_count": 25,
   "metadata": {},
   "outputs": [
    {
     "data": {
      "text/plain": [
       "(64461, 13)"
      ]
     },
     "execution_count": 25,
     "metadata": {},
     "output_type": "execute_result"
    }
   ],
   "source": [
    "# number of records before cleaning\n",
    "df.shape"
   ]
  },
  {
   "cell_type": "code",
   "execution_count": 26,
   "metadata": {
    "scrolled": false
   },
   "outputs": [],
   "source": [
    "# dropping any rows that contain at least one nan column value\n",
    "df.dropna(axis=0, how='any', inplace=True)"
   ]
  },
  {
   "cell_type": "code",
   "execution_count": 27,
   "metadata": {},
   "outputs": [
    {
     "data": {
      "text/plain": [
       "dtype('float64')"
      ]
     },
     "execution_count": 27,
     "metadata": {},
     "output_type": "execute_result"
    }
   ],
   "source": [
    "# checking the data type of Age column\n",
    "df['Age'].dtype"
   ]
  },
  {
   "cell_type": "code",
   "execution_count": 28,
   "metadata": {},
   "outputs": [],
   "source": [
    "# dropping rows where Age is above 85 and below 8. I am not sure if 8 years olds use StackOverflow, \n",
    "# but I had to come up with an arbitrary number.\n",
    "df.drop(df[df['Age'] > 85].index, inplace = True) \n",
    "df.drop(df[df['Age'] < 8].index, inplace = True) "
   ]
  },
  {
   "cell_type": "code",
   "execution_count": 29,
   "metadata": {},
   "outputs": [
    {
     "data": {
      "text/plain": [
       "(26466, 13)"
      ]
     },
     "execution_count": 29,
     "metadata": {},
     "output_type": "execute_result"
    }
   ],
   "source": [
    "# number of records after cleaning\n",
    "df.shape"
   ]
  },
  {
   "cell_type": "code",
   "execution_count": 30,
   "metadata": {},
   "outputs": [
    {
     "data": {
      "text/plain": [
       "Respondent                0\n",
       "Gender                    0\n",
       "Age                       0\n",
       "JobFactors                0\n",
       "DatabaseWorkedWith        0\n",
       "DatabaseDesireNextYear    0\n",
       "YearsCode                 0\n",
       "YearsCodePro              0\n",
       "SOVisitFreq               0\n",
       "MainBranch                0\n",
       "Hobbyist                  0\n",
       "Country                   0\n",
       "JobSeek                   0\n",
       "dtype: int64"
      ]
     },
     "execution_count": 30,
     "metadata": {},
     "output_type": "execute_result"
    }
   ],
   "source": [
    "# checking the number of null values after cleaning\n",
    "df.isnull().sum()"
   ]
  },
  {
   "cell_type": "code",
   "execution_count": 31,
   "metadata": {},
   "outputs": [
    {
     "data": {
      "text/plain": [
       "Male      24434\n",
       "Female     1739\n",
       "Other       293\n",
       "Name: Gender, dtype: int64"
      ]
     },
     "execution_count": 31,
     "metadata": {},
     "output_type": "execute_result"
    }
   ],
   "source": [
    "# simplifying Gender field\n",
    "gender_conditions = [(df['Gender'] == 'Man'),\n",
    "                         (df['Gender'] == 'Woman'),\n",
    "                         (df['Gender'] != 'Man') & (df['Gender'] != 'Woman') \n",
    "                         & (pd.isnull(df['Gender']) == False)]\n",
    "\n",
    "gender_cats = ['Male', 'Female', 'Other']\n",
    "\n",
    "df['Gender'] = np.select(gender_conditions, gender_cats, default = np.NaN)\n",
    "df['Gender'].value_counts()"
   ]
  },
  {
   "cell_type": "code",
   "execution_count": 32,
   "metadata": {
    "scrolled": true
   },
   "outputs": [],
   "source": [
    "# function to separate and pivot values in a column\n",
    "def separate(val):\n",
    "    values = {}\n",
    "    if not isinstance(val, str) :\n",
    "        return {}\n",
    "    for l in val.split(';'):\n",
    "        values[l] = 1;\n",
    "    return values"
   ]
  },
  {
   "cell_type": "markdown",
   "metadata": {},
   "source": [
    "> Above function is an adjusted form of a function written [here](https://github.com/kedevked/stackoverflow2018-survey/blob/master/stackoverflow_analysis.ipynb)."
   ]
  },
  {
   "cell_type": "code",
   "execution_count": 33,
   "metadata": {
    "scrolled": true
   },
   "outputs": [
    {
     "name": "stdout",
     "output_type": "stream",
     "text": [
      "There are 14 different databases\n"
     ]
    },
    {
     "data": {
      "text/html": [
       "<div>\n",
       "<style scoped>\n",
       "    .dataframe tbody tr th:only-of-type {\n",
       "        vertical-align: middle;\n",
       "    }\n",
       "\n",
       "    .dataframe tbody tr th {\n",
       "        vertical-align: top;\n",
       "    }\n",
       "\n",
       "    .dataframe thead th {\n",
       "        text-align: right;\n",
       "    }\n",
       "</style>\n",
       "<table border=\"1\" class=\"dataframe\">\n",
       "  <thead>\n",
       "    <tr style=\"text-align: right;\">\n",
       "      <th></th>\n",
       "      <th>MariaDB</th>\n",
       "      <th>MySQL</th>\n",
       "      <th>Redis</th>\n",
       "      <th>Microsoft SQL Server</th>\n",
       "      <th>Firebase</th>\n",
       "      <th>MongoDB</th>\n",
       "      <th>PostgreSQL</th>\n",
       "      <th>SQLite</th>\n",
       "      <th>Elasticsearch</th>\n",
       "      <th>IBM DB2</th>\n",
       "      <th>Oracle</th>\n",
       "      <th>DynamoDB</th>\n",
       "      <th>Cassandra</th>\n",
       "      <th>Couchbase</th>\n",
       "    </tr>\n",
       "  </thead>\n",
       "  <tbody>\n",
       "    <tr>\n",
       "      <th>7</th>\n",
       "      <td>1.0</td>\n",
       "      <td>1.0</td>\n",
       "      <td>1.0</td>\n",
       "      <td>NaN</td>\n",
       "      <td>NaN</td>\n",
       "      <td>NaN</td>\n",
       "      <td>NaN</td>\n",
       "      <td>NaN</td>\n",
       "      <td>NaN</td>\n",
       "      <td>NaN</td>\n",
       "      <td>NaN</td>\n",
       "      <td>NaN</td>\n",
       "      <td>NaN</td>\n",
       "      <td>NaN</td>\n",
       "    </tr>\n",
       "    <tr>\n",
       "      <th>9</th>\n",
       "      <td>NaN</td>\n",
       "      <td>NaN</td>\n",
       "      <td>NaN</td>\n",
       "      <td>1.0</td>\n",
       "      <td>NaN</td>\n",
       "      <td>NaN</td>\n",
       "      <td>NaN</td>\n",
       "      <td>NaN</td>\n",
       "      <td>NaN</td>\n",
       "      <td>NaN</td>\n",
       "      <td>NaN</td>\n",
       "      <td>NaN</td>\n",
       "      <td>NaN</td>\n",
       "      <td>NaN</td>\n",
       "    </tr>\n",
       "    <tr>\n",
       "      <th>10</th>\n",
       "      <td>NaN</td>\n",
       "      <td>NaN</td>\n",
       "      <td>NaN</td>\n",
       "      <td>NaN</td>\n",
       "      <td>1.0</td>\n",
       "      <td>1.0</td>\n",
       "      <td>1.0</td>\n",
       "      <td>1.0</td>\n",
       "      <td>NaN</td>\n",
       "      <td>NaN</td>\n",
       "      <td>NaN</td>\n",
       "      <td>NaN</td>\n",
       "      <td>NaN</td>\n",
       "      <td>NaN</td>\n",
       "    </tr>\n",
       "    <tr>\n",
       "      <th>13</th>\n",
       "      <td>NaN</td>\n",
       "      <td>NaN</td>\n",
       "      <td>NaN</td>\n",
       "      <td>1.0</td>\n",
       "      <td>1.0</td>\n",
       "      <td>NaN</td>\n",
       "      <td>NaN</td>\n",
       "      <td>NaN</td>\n",
       "      <td>NaN</td>\n",
       "      <td>NaN</td>\n",
       "      <td>NaN</td>\n",
       "      <td>NaN</td>\n",
       "      <td>NaN</td>\n",
       "      <td>NaN</td>\n",
       "    </tr>\n",
       "    <tr>\n",
       "      <th>16</th>\n",
       "      <td>NaN</td>\n",
       "      <td>NaN</td>\n",
       "      <td>NaN</td>\n",
       "      <td>1.0</td>\n",
       "      <td>NaN</td>\n",
       "      <td>NaN</td>\n",
       "      <td>1.0</td>\n",
       "      <td>NaN</td>\n",
       "      <td>NaN</td>\n",
       "      <td>NaN</td>\n",
       "      <td>NaN</td>\n",
       "      <td>NaN</td>\n",
       "      <td>NaN</td>\n",
       "      <td>NaN</td>\n",
       "    </tr>\n",
       "  </tbody>\n",
       "</table>\n",
       "</div>"
      ],
      "text/plain": [
       "    MariaDB  MySQL  Redis  Microsoft SQL Server  Firebase  MongoDB  \\\n",
       "7       1.0    1.0    1.0                   NaN       NaN      NaN   \n",
       "9       NaN    NaN    NaN                   1.0       NaN      NaN   \n",
       "10      NaN    NaN    NaN                   NaN       1.0      1.0   \n",
       "13      NaN    NaN    NaN                   1.0       1.0      NaN   \n",
       "16      NaN    NaN    NaN                   1.0       NaN      NaN   \n",
       "\n",
       "    PostgreSQL  SQLite  Elasticsearch  IBM DB2  Oracle  DynamoDB  Cassandra  \\\n",
       "7          NaN     NaN            NaN      NaN     NaN       NaN        NaN   \n",
       "9          NaN     NaN            NaN      NaN     NaN       NaN        NaN   \n",
       "10         1.0     1.0            NaN      NaN     NaN       NaN        NaN   \n",
       "13         NaN     NaN            NaN      NaN     NaN       NaN        NaN   \n",
       "16         1.0     NaN            NaN      NaN     NaN       NaN        NaN   \n",
       "\n",
       "    Couchbase  \n",
       "7         NaN  \n",
       "9         NaN  \n",
       "10        NaN  \n",
       "13        NaN  \n",
       "16        NaN  "
      ]
     },
     "execution_count": 33,
     "metadata": {},
     "output_type": "execute_result"
    }
   ],
   "source": [
    "# separate and pivot DatabaseWorkedWith column values and save in a dataframe\n",
    "pop_dbs = df['DatabaseWorkedWith'].apply(lambda x: pd.Series(separate(x)))\n",
    "print(\"There are {} different databases\".format(pop_dbs.shape[1]))\n",
    "pop_dbs.head()"
   ]
  },
  {
   "cell_type": "code",
   "execution_count": 34,
   "metadata": {},
   "outputs": [
    {
     "data": {
      "text/plain": [
       "(26466, 14)"
      ]
     },
     "execution_count": 34,
     "metadata": {},
     "output_type": "execute_result"
    }
   ],
   "source": [
    "# shape of the dataset before revoming rows with all values NaN\n",
    "pop_dbs.shape"
   ]
  },
  {
   "cell_type": "code",
   "execution_count": 35,
   "metadata": {
    "scrolled": false
   },
   "outputs": [
    {
     "data": {
      "text/html": [
       "<div>\n",
       "<style scoped>\n",
       "    .dataframe tbody tr th:only-of-type {\n",
       "        vertical-align: middle;\n",
       "    }\n",
       "\n",
       "    .dataframe tbody tr th {\n",
       "        vertical-align: top;\n",
       "    }\n",
       "\n",
       "    .dataframe thead th {\n",
       "        text-align: right;\n",
       "    }\n",
       "</style>\n",
       "<table border=\"1\" class=\"dataframe\">\n",
       "  <thead>\n",
       "    <tr style=\"text-align: right;\">\n",
       "      <th></th>\n",
       "      <th>MariaDB</th>\n",
       "      <th>MySQL</th>\n",
       "      <th>Redis</th>\n",
       "      <th>Microsoft SQL Server</th>\n",
       "      <th>Firebase</th>\n",
       "      <th>MongoDB</th>\n",
       "      <th>PostgreSQL</th>\n",
       "      <th>SQLite</th>\n",
       "      <th>Elasticsearch</th>\n",
       "      <th>IBM DB2</th>\n",
       "      <th>Oracle</th>\n",
       "      <th>DynamoDB</th>\n",
       "      <th>Cassandra</th>\n",
       "      <th>Couchbase</th>\n",
       "    </tr>\n",
       "  </thead>\n",
       "  <tbody>\n",
       "    <tr>\n",
       "      <th>7</th>\n",
       "      <td>1.0</td>\n",
       "      <td>1.0</td>\n",
       "      <td>1.0</td>\n",
       "      <td>NaN</td>\n",
       "      <td>NaN</td>\n",
       "      <td>NaN</td>\n",
       "      <td>NaN</td>\n",
       "      <td>NaN</td>\n",
       "      <td>NaN</td>\n",
       "      <td>NaN</td>\n",
       "      <td>NaN</td>\n",
       "      <td>NaN</td>\n",
       "      <td>NaN</td>\n",
       "      <td>NaN</td>\n",
       "    </tr>\n",
       "    <tr>\n",
       "      <th>9</th>\n",
       "      <td>NaN</td>\n",
       "      <td>NaN</td>\n",
       "      <td>NaN</td>\n",
       "      <td>1.0</td>\n",
       "      <td>NaN</td>\n",
       "      <td>NaN</td>\n",
       "      <td>NaN</td>\n",
       "      <td>NaN</td>\n",
       "      <td>NaN</td>\n",
       "      <td>NaN</td>\n",
       "      <td>NaN</td>\n",
       "      <td>NaN</td>\n",
       "      <td>NaN</td>\n",
       "      <td>NaN</td>\n",
       "    </tr>\n",
       "    <tr>\n",
       "      <th>10</th>\n",
       "      <td>NaN</td>\n",
       "      <td>NaN</td>\n",
       "      <td>NaN</td>\n",
       "      <td>NaN</td>\n",
       "      <td>1.0</td>\n",
       "      <td>1.0</td>\n",
       "      <td>1.0</td>\n",
       "      <td>1.0</td>\n",
       "      <td>NaN</td>\n",
       "      <td>NaN</td>\n",
       "      <td>NaN</td>\n",
       "      <td>NaN</td>\n",
       "      <td>NaN</td>\n",
       "      <td>NaN</td>\n",
       "    </tr>\n",
       "    <tr>\n",
       "      <th>13</th>\n",
       "      <td>NaN</td>\n",
       "      <td>NaN</td>\n",
       "      <td>NaN</td>\n",
       "      <td>1.0</td>\n",
       "      <td>1.0</td>\n",
       "      <td>NaN</td>\n",
       "      <td>NaN</td>\n",
       "      <td>NaN</td>\n",
       "      <td>NaN</td>\n",
       "      <td>NaN</td>\n",
       "      <td>NaN</td>\n",
       "      <td>NaN</td>\n",
       "      <td>NaN</td>\n",
       "      <td>NaN</td>\n",
       "    </tr>\n",
       "    <tr>\n",
       "      <th>16</th>\n",
       "      <td>NaN</td>\n",
       "      <td>NaN</td>\n",
       "      <td>NaN</td>\n",
       "      <td>1.0</td>\n",
       "      <td>NaN</td>\n",
       "      <td>NaN</td>\n",
       "      <td>1.0</td>\n",
       "      <td>NaN</td>\n",
       "      <td>NaN</td>\n",
       "      <td>NaN</td>\n",
       "      <td>NaN</td>\n",
       "      <td>NaN</td>\n",
       "      <td>NaN</td>\n",
       "      <td>NaN</td>\n",
       "    </tr>\n",
       "  </tbody>\n",
       "</table>\n",
       "</div>"
      ],
      "text/plain": [
       "    MariaDB  MySQL  Redis  Microsoft SQL Server  Firebase  MongoDB  \\\n",
       "7       1.0    1.0    1.0                   NaN       NaN      NaN   \n",
       "9       NaN    NaN    NaN                   1.0       NaN      NaN   \n",
       "10      NaN    NaN    NaN                   NaN       1.0      1.0   \n",
       "13      NaN    NaN    NaN                   1.0       1.0      NaN   \n",
       "16      NaN    NaN    NaN                   1.0       NaN      NaN   \n",
       "\n",
       "    PostgreSQL  SQLite  Elasticsearch  IBM DB2  Oracle  DynamoDB  Cassandra  \\\n",
       "7          NaN     NaN            NaN      NaN     NaN       NaN        NaN   \n",
       "9          NaN     NaN            NaN      NaN     NaN       NaN        NaN   \n",
       "10         1.0     1.0            NaN      NaN     NaN       NaN        NaN   \n",
       "13         NaN     NaN            NaN      NaN     NaN       NaN        NaN   \n",
       "16         1.0     NaN            NaN      NaN     NaN       NaN        NaN   \n",
       "\n",
       "    Couchbase  \n",
       "7         NaN  \n",
       "9         NaN  \n",
       "10        NaN  \n",
       "13        NaN  \n",
       "16        NaN  "
      ]
     },
     "execution_count": 35,
     "metadata": {},
     "output_type": "execute_result"
    }
   ],
   "source": [
    "# remove rows with all to be NaN\n",
    "missing_sum = pop_dbs.isnull().sum(axis = 1)\n",
    "pop_dbs = pop_dbs[missing_sum / pop_dbs.shape[1] < 1]\n",
    "pop_dbs.head()"
   ]
  },
  {
   "cell_type": "code",
   "execution_count": 36,
   "metadata": {},
   "outputs": [
    {
     "data": {
      "text/plain": [
       "(26466, 14)"
      ]
     },
     "execution_count": 36,
     "metadata": {},
     "output_type": "execute_result"
    }
   ],
   "source": [
    "# shape of the dataset after removing rows with all values NaN\n",
    "pop_dbs.shape"
   ]
  },
  {
   "cell_type": "code",
   "execution_count": 37,
   "metadata": {
    "scrolled": false
   },
   "outputs": [
    {
     "data": {
      "text/html": [
       "<div>\n",
       "<style scoped>\n",
       "    .dataframe tbody tr th:only-of-type {\n",
       "        vertical-align: middle;\n",
       "    }\n",
       "\n",
       "    .dataframe tbody tr th {\n",
       "        vertical-align: top;\n",
       "    }\n",
       "\n",
       "    .dataframe thead th {\n",
       "        text-align: right;\n",
       "    }\n",
       "</style>\n",
       "<table border=\"1\" class=\"dataframe\">\n",
       "  <thead>\n",
       "    <tr style=\"text-align: right;\">\n",
       "      <th></th>\n",
       "      <th>MariaDB</th>\n",
       "      <th>MySQL</th>\n",
       "      <th>Redis</th>\n",
       "      <th>Microsoft SQL Server</th>\n",
       "      <th>Firebase</th>\n",
       "      <th>MongoDB</th>\n",
       "      <th>PostgreSQL</th>\n",
       "      <th>SQLite</th>\n",
       "      <th>Elasticsearch</th>\n",
       "      <th>IBM DB2</th>\n",
       "      <th>Oracle</th>\n",
       "      <th>DynamoDB</th>\n",
       "      <th>Cassandra</th>\n",
       "      <th>Couchbase</th>\n",
       "    </tr>\n",
       "  </thead>\n",
       "  <tbody>\n",
       "    <tr>\n",
       "      <th>7</th>\n",
       "      <td>1.0</td>\n",
       "      <td>1.0</td>\n",
       "      <td>1.0</td>\n",
       "      <td>0.0</td>\n",
       "      <td>0.0</td>\n",
       "      <td>0.0</td>\n",
       "      <td>0.0</td>\n",
       "      <td>0.0</td>\n",
       "      <td>0.0</td>\n",
       "      <td>0.0</td>\n",
       "      <td>0.0</td>\n",
       "      <td>0.0</td>\n",
       "      <td>0.0</td>\n",
       "      <td>0.0</td>\n",
       "    </tr>\n",
       "    <tr>\n",
       "      <th>9</th>\n",
       "      <td>0.0</td>\n",
       "      <td>0.0</td>\n",
       "      <td>0.0</td>\n",
       "      <td>1.0</td>\n",
       "      <td>0.0</td>\n",
       "      <td>0.0</td>\n",
       "      <td>0.0</td>\n",
       "      <td>0.0</td>\n",
       "      <td>0.0</td>\n",
       "      <td>0.0</td>\n",
       "      <td>0.0</td>\n",
       "      <td>0.0</td>\n",
       "      <td>0.0</td>\n",
       "      <td>0.0</td>\n",
       "    </tr>\n",
       "    <tr>\n",
       "      <th>10</th>\n",
       "      <td>0.0</td>\n",
       "      <td>0.0</td>\n",
       "      <td>0.0</td>\n",
       "      <td>0.0</td>\n",
       "      <td>1.0</td>\n",
       "      <td>1.0</td>\n",
       "      <td>1.0</td>\n",
       "      <td>1.0</td>\n",
       "      <td>0.0</td>\n",
       "      <td>0.0</td>\n",
       "      <td>0.0</td>\n",
       "      <td>0.0</td>\n",
       "      <td>0.0</td>\n",
       "      <td>0.0</td>\n",
       "    </tr>\n",
       "    <tr>\n",
       "      <th>13</th>\n",
       "      <td>0.0</td>\n",
       "      <td>0.0</td>\n",
       "      <td>0.0</td>\n",
       "      <td>1.0</td>\n",
       "      <td>1.0</td>\n",
       "      <td>0.0</td>\n",
       "      <td>0.0</td>\n",
       "      <td>0.0</td>\n",
       "      <td>0.0</td>\n",
       "      <td>0.0</td>\n",
       "      <td>0.0</td>\n",
       "      <td>0.0</td>\n",
       "      <td>0.0</td>\n",
       "      <td>0.0</td>\n",
       "    </tr>\n",
       "    <tr>\n",
       "      <th>16</th>\n",
       "      <td>0.0</td>\n",
       "      <td>0.0</td>\n",
       "      <td>0.0</td>\n",
       "      <td>1.0</td>\n",
       "      <td>0.0</td>\n",
       "      <td>0.0</td>\n",
       "      <td>1.0</td>\n",
       "      <td>0.0</td>\n",
       "      <td>0.0</td>\n",
       "      <td>0.0</td>\n",
       "      <td>0.0</td>\n",
       "      <td>0.0</td>\n",
       "      <td>0.0</td>\n",
       "      <td>0.0</td>\n",
       "    </tr>\n",
       "  </tbody>\n",
       "</table>\n",
       "</div>"
      ],
      "text/plain": [
       "    MariaDB  MySQL  Redis  Microsoft SQL Server  Firebase  MongoDB  \\\n",
       "7       1.0    1.0    1.0                   0.0       0.0      0.0   \n",
       "9       0.0    0.0    0.0                   1.0       0.0      0.0   \n",
       "10      0.0    0.0    0.0                   0.0       1.0      1.0   \n",
       "13      0.0    0.0    0.0                   1.0       1.0      0.0   \n",
       "16      0.0    0.0    0.0                   1.0       0.0      0.0   \n",
       "\n",
       "    PostgreSQL  SQLite  Elasticsearch  IBM DB2  Oracle  DynamoDB  Cassandra  \\\n",
       "7          0.0     0.0            0.0      0.0     0.0       0.0        0.0   \n",
       "9          0.0     0.0            0.0      0.0     0.0       0.0        0.0   \n",
       "10         1.0     1.0            0.0      0.0     0.0       0.0        0.0   \n",
       "13         0.0     0.0            0.0      0.0     0.0       0.0        0.0   \n",
       "16         1.0     0.0            0.0      0.0     0.0       0.0        0.0   \n",
       "\n",
       "    Couchbase  \n",
       "7         0.0  \n",
       "9         0.0  \n",
       "10        0.0  \n",
       "13        0.0  \n",
       "16        0.0  "
      ]
     },
     "execution_count": 37,
     "metadata": {},
     "output_type": "execute_result"
    }
   ],
   "source": [
    "# fill NaNs with 0\n",
    "pop_dbs = pop_dbs.fillna(0)\n",
    "pop_dbs.head()"
   ]
  },
  {
   "cell_type": "markdown",
   "metadata": {},
   "source": [
    "#### Now let's repeat the same steps for DatabaseDesireNextYear columns."
   ]
  },
  {
   "cell_type": "code",
   "execution_count": 38,
   "metadata": {
    "scrolled": true
   },
   "outputs": [
    {
     "name": "stdout",
     "output_type": "stream",
     "text": [
      "There are 14 different databases desired for next year\n"
     ]
    },
    {
     "data": {
      "text/html": [
       "<div>\n",
       "<style scoped>\n",
       "    .dataframe tbody tr th:only-of-type {\n",
       "        vertical-align: middle;\n",
       "    }\n",
       "\n",
       "    .dataframe tbody tr th {\n",
       "        vertical-align: top;\n",
       "    }\n",
       "\n",
       "    .dataframe thead th {\n",
       "        text-align: right;\n",
       "    }\n",
       "</style>\n",
       "<table border=\"1\" class=\"dataframe\">\n",
       "  <thead>\n",
       "    <tr style=\"text-align: right;\">\n",
       "      <th></th>\n",
       "      <th>MongoDB</th>\n",
       "      <th>Microsoft SQL Server</th>\n",
       "      <th>Firebase</th>\n",
       "      <th>PostgreSQL</th>\n",
       "      <th>Cassandra</th>\n",
       "      <th>Elasticsearch</th>\n",
       "      <th>MariaDB</th>\n",
       "      <th>Redis</th>\n",
       "      <th>SQLite</th>\n",
       "      <th>MySQL</th>\n",
       "      <th>DynamoDB</th>\n",
       "      <th>Couchbase</th>\n",
       "      <th>Oracle</th>\n",
       "      <th>IBM DB2</th>\n",
       "    </tr>\n",
       "  </thead>\n",
       "  <tbody>\n",
       "    <tr>\n",
       "      <th>7</th>\n",
       "      <td>1.0</td>\n",
       "      <td>NaN</td>\n",
       "      <td>NaN</td>\n",
       "      <td>NaN</td>\n",
       "      <td>NaN</td>\n",
       "      <td>NaN</td>\n",
       "      <td>NaN</td>\n",
       "      <td>NaN</td>\n",
       "      <td>NaN</td>\n",
       "      <td>NaN</td>\n",
       "      <td>NaN</td>\n",
       "      <td>NaN</td>\n",
       "      <td>NaN</td>\n",
       "      <td>NaN</td>\n",
       "    </tr>\n",
       "    <tr>\n",
       "      <th>9</th>\n",
       "      <td>NaN</td>\n",
       "      <td>1.0</td>\n",
       "      <td>NaN</td>\n",
       "      <td>NaN</td>\n",
       "      <td>NaN</td>\n",
       "      <td>NaN</td>\n",
       "      <td>NaN</td>\n",
       "      <td>NaN</td>\n",
       "      <td>NaN</td>\n",
       "      <td>NaN</td>\n",
       "      <td>NaN</td>\n",
       "      <td>NaN</td>\n",
       "      <td>NaN</td>\n",
       "      <td>NaN</td>\n",
       "    </tr>\n",
       "    <tr>\n",
       "      <th>10</th>\n",
       "      <td>1.0</td>\n",
       "      <td>NaN</td>\n",
       "      <td>1.0</td>\n",
       "      <td>1.0</td>\n",
       "      <td>NaN</td>\n",
       "      <td>NaN</td>\n",
       "      <td>NaN</td>\n",
       "      <td>NaN</td>\n",
       "      <td>NaN</td>\n",
       "      <td>NaN</td>\n",
       "      <td>NaN</td>\n",
       "      <td>NaN</td>\n",
       "      <td>NaN</td>\n",
       "      <td>NaN</td>\n",
       "    </tr>\n",
       "    <tr>\n",
       "      <th>13</th>\n",
       "      <td>NaN</td>\n",
       "      <td>1.0</td>\n",
       "      <td>1.0</td>\n",
       "      <td>NaN</td>\n",
       "      <td>NaN</td>\n",
       "      <td>NaN</td>\n",
       "      <td>NaN</td>\n",
       "      <td>NaN</td>\n",
       "      <td>NaN</td>\n",
       "      <td>NaN</td>\n",
       "      <td>NaN</td>\n",
       "      <td>NaN</td>\n",
       "      <td>NaN</td>\n",
       "      <td>NaN</td>\n",
       "    </tr>\n",
       "    <tr>\n",
       "      <th>16</th>\n",
       "      <td>NaN</td>\n",
       "      <td>NaN</td>\n",
       "      <td>NaN</td>\n",
       "      <td>1.0</td>\n",
       "      <td>1.0</td>\n",
       "      <td>1.0</td>\n",
       "      <td>1.0</td>\n",
       "      <td>1.0</td>\n",
       "      <td>NaN</td>\n",
       "      <td>NaN</td>\n",
       "      <td>NaN</td>\n",
       "      <td>NaN</td>\n",
       "      <td>NaN</td>\n",
       "      <td>NaN</td>\n",
       "    </tr>\n",
       "  </tbody>\n",
       "</table>\n",
       "</div>"
      ],
      "text/plain": [
       "    MongoDB  Microsoft SQL Server  Firebase  PostgreSQL  Cassandra  \\\n",
       "7       1.0                   NaN       NaN         NaN        NaN   \n",
       "9       NaN                   1.0       NaN         NaN        NaN   \n",
       "10      1.0                   NaN       1.0         1.0        NaN   \n",
       "13      NaN                   1.0       1.0         NaN        NaN   \n",
       "16      NaN                   NaN       NaN         1.0        1.0   \n",
       "\n",
       "    Elasticsearch  MariaDB  Redis  SQLite  MySQL  DynamoDB  Couchbase  Oracle  \\\n",
       "7             NaN      NaN    NaN     NaN    NaN       NaN        NaN     NaN   \n",
       "9             NaN      NaN    NaN     NaN    NaN       NaN        NaN     NaN   \n",
       "10            NaN      NaN    NaN     NaN    NaN       NaN        NaN     NaN   \n",
       "13            NaN      NaN    NaN     NaN    NaN       NaN        NaN     NaN   \n",
       "16            1.0      1.0    1.0     NaN    NaN       NaN        NaN     NaN   \n",
       "\n",
       "    IBM DB2  \n",
       "7       NaN  \n",
       "9       NaN  \n",
       "10      NaN  \n",
       "13      NaN  \n",
       "16      NaN  "
      ]
     },
     "execution_count": 38,
     "metadata": {},
     "output_type": "execute_result"
    }
   ],
   "source": [
    "# separate and pivot DatabaseDesireNextYear column values and save in a dataframe\n",
    "desired_dbs = df['DatabaseDesireNextYear'].apply(lambda x: pd.Series(separate(x)))\n",
    "print(\"There are {} different databases desired for next year\".format(desired_dbs.shape[1]))\n",
    "desired_dbs.head()"
   ]
  },
  {
   "cell_type": "code",
   "execution_count": 39,
   "metadata": {},
   "outputs": [
    {
     "data": {
      "text/plain": [
       "(26466, 14)"
      ]
     },
     "execution_count": 39,
     "metadata": {},
     "output_type": "execute_result"
    }
   ],
   "source": [
    "# shape of the dataset before revoming rows with all values NaN\n",
    "desired_dbs.shape"
   ]
  },
  {
   "cell_type": "code",
   "execution_count": 40,
   "metadata": {},
   "outputs": [
    {
     "data": {
      "text/html": [
       "<div>\n",
       "<style scoped>\n",
       "    .dataframe tbody tr th:only-of-type {\n",
       "        vertical-align: middle;\n",
       "    }\n",
       "\n",
       "    .dataframe tbody tr th {\n",
       "        vertical-align: top;\n",
       "    }\n",
       "\n",
       "    .dataframe thead th {\n",
       "        text-align: right;\n",
       "    }\n",
       "</style>\n",
       "<table border=\"1\" class=\"dataframe\">\n",
       "  <thead>\n",
       "    <tr style=\"text-align: right;\">\n",
       "      <th></th>\n",
       "      <th>MongoDB</th>\n",
       "      <th>Microsoft SQL Server</th>\n",
       "      <th>Firebase</th>\n",
       "      <th>PostgreSQL</th>\n",
       "      <th>Cassandra</th>\n",
       "      <th>Elasticsearch</th>\n",
       "      <th>MariaDB</th>\n",
       "      <th>Redis</th>\n",
       "      <th>SQLite</th>\n",
       "      <th>MySQL</th>\n",
       "      <th>DynamoDB</th>\n",
       "      <th>Couchbase</th>\n",
       "      <th>Oracle</th>\n",
       "      <th>IBM DB2</th>\n",
       "    </tr>\n",
       "  </thead>\n",
       "  <tbody>\n",
       "    <tr>\n",
       "      <th>7</th>\n",
       "      <td>1.0</td>\n",
       "      <td>NaN</td>\n",
       "      <td>NaN</td>\n",
       "      <td>NaN</td>\n",
       "      <td>NaN</td>\n",
       "      <td>NaN</td>\n",
       "      <td>NaN</td>\n",
       "      <td>NaN</td>\n",
       "      <td>NaN</td>\n",
       "      <td>NaN</td>\n",
       "      <td>NaN</td>\n",
       "      <td>NaN</td>\n",
       "      <td>NaN</td>\n",
       "      <td>NaN</td>\n",
       "    </tr>\n",
       "    <tr>\n",
       "      <th>9</th>\n",
       "      <td>NaN</td>\n",
       "      <td>1.0</td>\n",
       "      <td>NaN</td>\n",
       "      <td>NaN</td>\n",
       "      <td>NaN</td>\n",
       "      <td>NaN</td>\n",
       "      <td>NaN</td>\n",
       "      <td>NaN</td>\n",
       "      <td>NaN</td>\n",
       "      <td>NaN</td>\n",
       "      <td>NaN</td>\n",
       "      <td>NaN</td>\n",
       "      <td>NaN</td>\n",
       "      <td>NaN</td>\n",
       "    </tr>\n",
       "    <tr>\n",
       "      <th>10</th>\n",
       "      <td>1.0</td>\n",
       "      <td>NaN</td>\n",
       "      <td>1.0</td>\n",
       "      <td>1.0</td>\n",
       "      <td>NaN</td>\n",
       "      <td>NaN</td>\n",
       "      <td>NaN</td>\n",
       "      <td>NaN</td>\n",
       "      <td>NaN</td>\n",
       "      <td>NaN</td>\n",
       "      <td>NaN</td>\n",
       "      <td>NaN</td>\n",
       "      <td>NaN</td>\n",
       "      <td>NaN</td>\n",
       "    </tr>\n",
       "    <tr>\n",
       "      <th>13</th>\n",
       "      <td>NaN</td>\n",
       "      <td>1.0</td>\n",
       "      <td>1.0</td>\n",
       "      <td>NaN</td>\n",
       "      <td>NaN</td>\n",
       "      <td>NaN</td>\n",
       "      <td>NaN</td>\n",
       "      <td>NaN</td>\n",
       "      <td>NaN</td>\n",
       "      <td>NaN</td>\n",
       "      <td>NaN</td>\n",
       "      <td>NaN</td>\n",
       "      <td>NaN</td>\n",
       "      <td>NaN</td>\n",
       "    </tr>\n",
       "    <tr>\n",
       "      <th>16</th>\n",
       "      <td>NaN</td>\n",
       "      <td>NaN</td>\n",
       "      <td>NaN</td>\n",
       "      <td>1.0</td>\n",
       "      <td>1.0</td>\n",
       "      <td>1.0</td>\n",
       "      <td>1.0</td>\n",
       "      <td>1.0</td>\n",
       "      <td>NaN</td>\n",
       "      <td>NaN</td>\n",
       "      <td>NaN</td>\n",
       "      <td>NaN</td>\n",
       "      <td>NaN</td>\n",
       "      <td>NaN</td>\n",
       "    </tr>\n",
       "  </tbody>\n",
       "</table>\n",
       "</div>"
      ],
      "text/plain": [
       "    MongoDB  Microsoft SQL Server  Firebase  PostgreSQL  Cassandra  \\\n",
       "7       1.0                   NaN       NaN         NaN        NaN   \n",
       "9       NaN                   1.0       NaN         NaN        NaN   \n",
       "10      1.0                   NaN       1.0         1.0        NaN   \n",
       "13      NaN                   1.0       1.0         NaN        NaN   \n",
       "16      NaN                   NaN       NaN         1.0        1.0   \n",
       "\n",
       "    Elasticsearch  MariaDB  Redis  SQLite  MySQL  DynamoDB  Couchbase  Oracle  \\\n",
       "7             NaN      NaN    NaN     NaN    NaN       NaN        NaN     NaN   \n",
       "9             NaN      NaN    NaN     NaN    NaN       NaN        NaN     NaN   \n",
       "10            NaN      NaN    NaN     NaN    NaN       NaN        NaN     NaN   \n",
       "13            NaN      NaN    NaN     NaN    NaN       NaN        NaN     NaN   \n",
       "16            1.0      1.0    1.0     NaN    NaN       NaN        NaN     NaN   \n",
       "\n",
       "    IBM DB2  \n",
       "7       NaN  \n",
       "9       NaN  \n",
       "10      NaN  \n",
       "13      NaN  \n",
       "16      NaN  "
      ]
     },
     "execution_count": 40,
     "metadata": {},
     "output_type": "execute_result"
    }
   ],
   "source": [
    "# remove rows with all to be NaN\n",
    "missing_sum = desired_dbs.isnull().sum(axis = 1)\n",
    "desired_dbs = desired_dbs[missing_sum / desired_dbs.shape[1] < 1]\n",
    "desired_dbs.head()"
   ]
  },
  {
   "cell_type": "code",
   "execution_count": 41,
   "metadata": {},
   "outputs": [
    {
     "data": {
      "text/plain": [
       "(26466, 14)"
      ]
     },
     "execution_count": 41,
     "metadata": {},
     "output_type": "execute_result"
    }
   ],
   "source": [
    "# shape of the dataset after removing rows with all values NaN\n",
    "desired_dbs.shape"
   ]
  },
  {
   "cell_type": "code",
   "execution_count": 42,
   "metadata": {
    "scrolled": true
   },
   "outputs": [
    {
     "data": {
      "text/html": [
       "<div>\n",
       "<style scoped>\n",
       "    .dataframe tbody tr th:only-of-type {\n",
       "        vertical-align: middle;\n",
       "    }\n",
       "\n",
       "    .dataframe tbody tr th {\n",
       "        vertical-align: top;\n",
       "    }\n",
       "\n",
       "    .dataframe thead th {\n",
       "        text-align: right;\n",
       "    }\n",
       "</style>\n",
       "<table border=\"1\" class=\"dataframe\">\n",
       "  <thead>\n",
       "    <tr style=\"text-align: right;\">\n",
       "      <th></th>\n",
       "      <th>MongoDB</th>\n",
       "      <th>Microsoft SQL Server</th>\n",
       "      <th>Firebase</th>\n",
       "      <th>PostgreSQL</th>\n",
       "      <th>Cassandra</th>\n",
       "      <th>Elasticsearch</th>\n",
       "      <th>MariaDB</th>\n",
       "      <th>Redis</th>\n",
       "      <th>SQLite</th>\n",
       "      <th>MySQL</th>\n",
       "      <th>DynamoDB</th>\n",
       "      <th>Couchbase</th>\n",
       "      <th>Oracle</th>\n",
       "      <th>IBM DB2</th>\n",
       "    </tr>\n",
       "  </thead>\n",
       "  <tbody>\n",
       "    <tr>\n",
       "      <th>7</th>\n",
       "      <td>1.0</td>\n",
       "      <td>0.0</td>\n",
       "      <td>0.0</td>\n",
       "      <td>0.0</td>\n",
       "      <td>0.0</td>\n",
       "      <td>0.0</td>\n",
       "      <td>0.0</td>\n",
       "      <td>0.0</td>\n",
       "      <td>0.0</td>\n",
       "      <td>0.0</td>\n",
       "      <td>0.0</td>\n",
       "      <td>0.0</td>\n",
       "      <td>0.0</td>\n",
       "      <td>0.0</td>\n",
       "    </tr>\n",
       "    <tr>\n",
       "      <th>9</th>\n",
       "      <td>0.0</td>\n",
       "      <td>1.0</td>\n",
       "      <td>0.0</td>\n",
       "      <td>0.0</td>\n",
       "      <td>0.0</td>\n",
       "      <td>0.0</td>\n",
       "      <td>0.0</td>\n",
       "      <td>0.0</td>\n",
       "      <td>0.0</td>\n",
       "      <td>0.0</td>\n",
       "      <td>0.0</td>\n",
       "      <td>0.0</td>\n",
       "      <td>0.0</td>\n",
       "      <td>0.0</td>\n",
       "    </tr>\n",
       "    <tr>\n",
       "      <th>10</th>\n",
       "      <td>1.0</td>\n",
       "      <td>0.0</td>\n",
       "      <td>1.0</td>\n",
       "      <td>1.0</td>\n",
       "      <td>0.0</td>\n",
       "      <td>0.0</td>\n",
       "      <td>0.0</td>\n",
       "      <td>0.0</td>\n",
       "      <td>0.0</td>\n",
       "      <td>0.0</td>\n",
       "      <td>0.0</td>\n",
       "      <td>0.0</td>\n",
       "      <td>0.0</td>\n",
       "      <td>0.0</td>\n",
       "    </tr>\n",
       "    <tr>\n",
       "      <th>13</th>\n",
       "      <td>0.0</td>\n",
       "      <td>1.0</td>\n",
       "      <td>1.0</td>\n",
       "      <td>0.0</td>\n",
       "      <td>0.0</td>\n",
       "      <td>0.0</td>\n",
       "      <td>0.0</td>\n",
       "      <td>0.0</td>\n",
       "      <td>0.0</td>\n",
       "      <td>0.0</td>\n",
       "      <td>0.0</td>\n",
       "      <td>0.0</td>\n",
       "      <td>0.0</td>\n",
       "      <td>0.0</td>\n",
       "    </tr>\n",
       "    <tr>\n",
       "      <th>16</th>\n",
       "      <td>0.0</td>\n",
       "      <td>0.0</td>\n",
       "      <td>0.0</td>\n",
       "      <td>1.0</td>\n",
       "      <td>1.0</td>\n",
       "      <td>1.0</td>\n",
       "      <td>1.0</td>\n",
       "      <td>1.0</td>\n",
       "      <td>0.0</td>\n",
       "      <td>0.0</td>\n",
       "      <td>0.0</td>\n",
       "      <td>0.0</td>\n",
       "      <td>0.0</td>\n",
       "      <td>0.0</td>\n",
       "    </tr>\n",
       "  </tbody>\n",
       "</table>\n",
       "</div>"
      ],
      "text/plain": [
       "    MongoDB  Microsoft SQL Server  Firebase  PostgreSQL  Cassandra  \\\n",
       "7       1.0                   0.0       0.0         0.0        0.0   \n",
       "9       0.0                   1.0       0.0         0.0        0.0   \n",
       "10      1.0                   0.0       1.0         1.0        0.0   \n",
       "13      0.0                   1.0       1.0         0.0        0.0   \n",
       "16      0.0                   0.0       0.0         1.0        1.0   \n",
       "\n",
       "    Elasticsearch  MariaDB  Redis  SQLite  MySQL  DynamoDB  Couchbase  Oracle  \\\n",
       "7             0.0      0.0    0.0     0.0    0.0       0.0        0.0     0.0   \n",
       "9             0.0      0.0    0.0     0.0    0.0       0.0        0.0     0.0   \n",
       "10            0.0      0.0    0.0     0.0    0.0       0.0        0.0     0.0   \n",
       "13            0.0      0.0    0.0     0.0    0.0       0.0        0.0     0.0   \n",
       "16            1.0      1.0    1.0     0.0    0.0       0.0        0.0     0.0   \n",
       "\n",
       "    IBM DB2  \n",
       "7       0.0  \n",
       "9       0.0  \n",
       "10      0.0  \n",
       "13      0.0  \n",
       "16      0.0  "
      ]
     },
     "execution_count": 42,
     "metadata": {},
     "output_type": "execute_result"
    }
   ],
   "source": [
    "# fill NaNs with 0\n",
    "desired_dbs = desired_dbs.fillna(0)\n",
    "desired_dbs.head()"
   ]
  },
  {
   "cell_type": "code",
   "execution_count": 43,
   "metadata": {},
   "outputs": [],
   "source": [
    "# Create dataframe containing split string values by respondent number\n",
    "def split_list(df, col):\n",
    "    \"\"\"Create a new dataframe that splits the values of multi-selection column col into individual selections and \n",
    "    places each selection value on a separate row. This new dataframe can be linked back to the original dataframe by \n",
    "    Respondent value.\n",
    "    \n",
    "    Args:\n",
    "    df: dataframe. Dataframe containing the multi-selection field col.\n",
    "       \n",
    "    Returns:\n",
    "    out_df: dataframe. New dataframe giving split values of col.\n",
    "    \"\"\"\n",
    "    in_res = list(df['Respondent'])\n",
    "    in_list = list(df[col])\n",
    "    \n",
    "    out_res = []\n",
    "    out_list = []\n",
    "    \n",
    "    for i in range(len(in_list)):\n",
    "        if pd.isnull(in_list[i]) == False:\n",
    "            vals = in_list[i].split(';')\n",
    "            res = [in_res[i]]*len(vals)\n",
    "            \n",
    "            out_list.append(vals)\n",
    "            out_res.append(res)\n",
    "    \n",
    "    out_df = pd.DataFrame({'Respondent': list(np.concatenate(out_res)), col: list(np.concatenate(out_list))})\n",
    "    \n",
    "    return out_df"
   ]
  },
  {
   "cell_type": "markdown",
   "metadata": {},
   "source": [
    "> I relied on [here](https://github.com/gkhayes/ds_survey_analysis/blob/master/DS%20Survey%20Analysis.ipynb) for the above function."
   ]
  },
  {
   "cell_type": "code",
   "execution_count": 44,
   "metadata": {},
   "outputs": [
    {
     "name": "stdout",
     "output_type": "stream",
     "text": [
      "There are 11 different job factors\n"
     ]
    },
    {
     "data": {
      "text/html": [
       "<div>\n",
       "<style scoped>\n",
       "    .dataframe tbody tr th:only-of-type {\n",
       "        vertical-align: middle;\n",
       "    }\n",
       "\n",
       "    .dataframe tbody tr th {\n",
       "        vertical-align: top;\n",
       "    }\n",
       "\n",
       "    .dataframe thead th {\n",
       "        text-align: right;\n",
       "    }\n",
       "</style>\n",
       "<table border=\"1\" class=\"dataframe\">\n",
       "  <thead>\n",
       "    <tr style=\"text-align: right;\">\n",
       "      <th></th>\n",
       "      <th>Remote work options</th>\n",
       "      <th>Opportunities for professional development</th>\n",
       "      <th>Family friendliness</th>\n",
       "      <th>Flex time or a flexible schedule</th>\n",
       "      <th>How widely used or impactful my work output would be</th>\n",
       "      <th>Languages, frameworks, and other technologies I’d be working with</th>\n",
       "      <th>Industry that I’d be working in</th>\n",
       "      <th>Office environment or company culture</th>\n",
       "      <th>Specific department or team I’d be working on</th>\n",
       "      <th>Financial performance or funding status of the company or organization</th>\n",
       "      <th>Diversity of the company or organization</th>\n",
       "    </tr>\n",
       "  </thead>\n",
       "  <tbody>\n",
       "    <tr>\n",
       "      <th>7</th>\n",
       "      <td>1.0</td>\n",
       "      <td>1.0</td>\n",
       "      <td>1.0</td>\n",
       "      <td>NaN</td>\n",
       "      <td>NaN</td>\n",
       "      <td>NaN</td>\n",
       "      <td>NaN</td>\n",
       "      <td>NaN</td>\n",
       "      <td>NaN</td>\n",
       "      <td>NaN</td>\n",
       "      <td>NaN</td>\n",
       "    </tr>\n",
       "    <tr>\n",
       "      <th>9</th>\n",
       "      <td>NaN</td>\n",
       "      <td>1.0</td>\n",
       "      <td>NaN</td>\n",
       "      <td>1.0</td>\n",
       "      <td>1.0</td>\n",
       "      <td>NaN</td>\n",
       "      <td>NaN</td>\n",
       "      <td>NaN</td>\n",
       "      <td>NaN</td>\n",
       "      <td>NaN</td>\n",
       "      <td>NaN</td>\n",
       "    </tr>\n",
       "    <tr>\n",
       "      <th>10</th>\n",
       "      <td>1.0</td>\n",
       "      <td>NaN</td>\n",
       "      <td>NaN</td>\n",
       "      <td>1.0</td>\n",
       "      <td>NaN</td>\n",
       "      <td>1.0</td>\n",
       "      <td>NaN</td>\n",
       "      <td>NaN</td>\n",
       "      <td>NaN</td>\n",
       "      <td>NaN</td>\n",
       "      <td>NaN</td>\n",
       "    </tr>\n",
       "    <tr>\n",
       "      <th>13</th>\n",
       "      <td>NaN</td>\n",
       "      <td>NaN</td>\n",
       "      <td>NaN</td>\n",
       "      <td>1.0</td>\n",
       "      <td>NaN</td>\n",
       "      <td>NaN</td>\n",
       "      <td>1.0</td>\n",
       "      <td>1.0</td>\n",
       "      <td>NaN</td>\n",
       "      <td>NaN</td>\n",
       "      <td>NaN</td>\n",
       "    </tr>\n",
       "    <tr>\n",
       "      <th>16</th>\n",
       "      <td>NaN</td>\n",
       "      <td>NaN</td>\n",
       "      <td>NaN</td>\n",
       "      <td>NaN</td>\n",
       "      <td>NaN</td>\n",
       "      <td>1.0</td>\n",
       "      <td>1.0</td>\n",
       "      <td>1.0</td>\n",
       "      <td>NaN</td>\n",
       "      <td>NaN</td>\n",
       "      <td>NaN</td>\n",
       "    </tr>\n",
       "  </tbody>\n",
       "</table>\n",
       "</div>"
      ],
      "text/plain": [
       "    Remote work options  Opportunities for professional development  \\\n",
       "7                   1.0                                         1.0   \n",
       "9                   NaN                                         1.0   \n",
       "10                  1.0                                         NaN   \n",
       "13                  NaN                                         NaN   \n",
       "16                  NaN                                         NaN   \n",
       "\n",
       "    Family friendliness  Flex time or a flexible schedule  \\\n",
       "7                   1.0                               NaN   \n",
       "9                   NaN                               1.0   \n",
       "10                  NaN                               1.0   \n",
       "13                  NaN                               1.0   \n",
       "16                  NaN                               NaN   \n",
       "\n",
       "    How widely used or impactful my work output would be  \\\n",
       "7                                                 NaN      \n",
       "9                                                 1.0      \n",
       "10                                                NaN      \n",
       "13                                                NaN      \n",
       "16                                                NaN      \n",
       "\n",
       "    Languages, frameworks, and other technologies I’d be working with  \\\n",
       "7                                                 NaN                   \n",
       "9                                                 NaN                   \n",
       "10                                                1.0                   \n",
       "13                                                NaN                   \n",
       "16                                                1.0                   \n",
       "\n",
       "    Industry that I’d be working in  Office environment or company culture  \\\n",
       "7                               NaN                                    NaN   \n",
       "9                               NaN                                    NaN   \n",
       "10                              NaN                                    NaN   \n",
       "13                              1.0                                    1.0   \n",
       "16                              1.0                                    1.0   \n",
       "\n",
       "    Specific department or team I’d be working on  \\\n",
       "7                                             NaN   \n",
       "9                                             NaN   \n",
       "10                                            NaN   \n",
       "13                                            NaN   \n",
       "16                                            NaN   \n",
       "\n",
       "    Financial performance or funding status of the company or organization  \\\n",
       "7                                                 NaN                        \n",
       "9                                                 NaN                        \n",
       "10                                                NaN                        \n",
       "13                                                NaN                        \n",
       "16                                                NaN                        \n",
       "\n",
       "    Diversity of the company or organization  \n",
       "7                                        NaN  \n",
       "9                                        NaN  \n",
       "10                                       NaN  \n",
       "13                                       NaN  \n",
       "16                                       NaN  "
      ]
     },
     "execution_count": 44,
     "metadata": {},
     "output_type": "execute_result"
    }
   ],
   "source": [
    "# separte and pivot JobFactors column values and save in a data frame\n",
    "job_factors = df['JobFactors'].apply(lambda x: pd.Series(separate(x)))\n",
    "print(\"There are {} different job factors\".format(job_factors.shape[1]))\n",
    "job_factors.head()"
   ]
  },
  {
   "cell_type": "code",
   "execution_count": 45,
   "metadata": {
    "scrolled": false
   },
   "outputs": [
    {
     "data": {
      "text/html": [
       "<div>\n",
       "<style scoped>\n",
       "    .dataframe tbody tr th:only-of-type {\n",
       "        vertical-align: middle;\n",
       "    }\n",
       "\n",
       "    .dataframe tbody tr th {\n",
       "        vertical-align: top;\n",
       "    }\n",
       "\n",
       "    .dataframe thead th {\n",
       "        text-align: right;\n",
       "    }\n",
       "</style>\n",
       "<table border=\"1\" class=\"dataframe\">\n",
       "  <thead>\n",
       "    <tr style=\"text-align: right;\">\n",
       "      <th></th>\n",
       "      <th>Remote work options</th>\n",
       "      <th>Opportunities for professional development</th>\n",
       "      <th>Family friendliness</th>\n",
       "      <th>Flex time or a flexible schedule</th>\n",
       "      <th>How widely used or impactful my work output would be</th>\n",
       "      <th>Languages, frameworks, and other technologies I’d be working with</th>\n",
       "      <th>Industry that I’d be working in</th>\n",
       "      <th>Office environment or company culture</th>\n",
       "      <th>Specific department or team I’d be working on</th>\n",
       "      <th>Financial performance or funding status of the company or organization</th>\n",
       "      <th>Diversity of the company or organization</th>\n",
       "    </tr>\n",
       "  </thead>\n",
       "  <tbody>\n",
       "    <tr>\n",
       "      <th>7</th>\n",
       "      <td>1.0</td>\n",
       "      <td>1.0</td>\n",
       "      <td>1.0</td>\n",
       "      <td>0.0</td>\n",
       "      <td>0.0</td>\n",
       "      <td>0.0</td>\n",
       "      <td>0.0</td>\n",
       "      <td>0.0</td>\n",
       "      <td>0.0</td>\n",
       "      <td>0.0</td>\n",
       "      <td>0.0</td>\n",
       "    </tr>\n",
       "    <tr>\n",
       "      <th>9</th>\n",
       "      <td>0.0</td>\n",
       "      <td>1.0</td>\n",
       "      <td>0.0</td>\n",
       "      <td>1.0</td>\n",
       "      <td>1.0</td>\n",
       "      <td>0.0</td>\n",
       "      <td>0.0</td>\n",
       "      <td>0.0</td>\n",
       "      <td>0.0</td>\n",
       "      <td>0.0</td>\n",
       "      <td>0.0</td>\n",
       "    </tr>\n",
       "    <tr>\n",
       "      <th>10</th>\n",
       "      <td>1.0</td>\n",
       "      <td>0.0</td>\n",
       "      <td>0.0</td>\n",
       "      <td>1.0</td>\n",
       "      <td>0.0</td>\n",
       "      <td>1.0</td>\n",
       "      <td>0.0</td>\n",
       "      <td>0.0</td>\n",
       "      <td>0.0</td>\n",
       "      <td>0.0</td>\n",
       "      <td>0.0</td>\n",
       "    </tr>\n",
       "    <tr>\n",
       "      <th>13</th>\n",
       "      <td>0.0</td>\n",
       "      <td>0.0</td>\n",
       "      <td>0.0</td>\n",
       "      <td>1.0</td>\n",
       "      <td>0.0</td>\n",
       "      <td>0.0</td>\n",
       "      <td>1.0</td>\n",
       "      <td>1.0</td>\n",
       "      <td>0.0</td>\n",
       "      <td>0.0</td>\n",
       "      <td>0.0</td>\n",
       "    </tr>\n",
       "    <tr>\n",
       "      <th>16</th>\n",
       "      <td>0.0</td>\n",
       "      <td>0.0</td>\n",
       "      <td>0.0</td>\n",
       "      <td>0.0</td>\n",
       "      <td>0.0</td>\n",
       "      <td>1.0</td>\n",
       "      <td>1.0</td>\n",
       "      <td>1.0</td>\n",
       "      <td>0.0</td>\n",
       "      <td>0.0</td>\n",
       "      <td>0.0</td>\n",
       "    </tr>\n",
       "  </tbody>\n",
       "</table>\n",
       "</div>"
      ],
      "text/plain": [
       "    Remote work options  Opportunities for professional development  \\\n",
       "7                   1.0                                         1.0   \n",
       "9                   0.0                                         1.0   \n",
       "10                  1.0                                         0.0   \n",
       "13                  0.0                                         0.0   \n",
       "16                  0.0                                         0.0   \n",
       "\n",
       "    Family friendliness  Flex time or a flexible schedule  \\\n",
       "7                   1.0                               0.0   \n",
       "9                   0.0                               1.0   \n",
       "10                  0.0                               1.0   \n",
       "13                  0.0                               1.0   \n",
       "16                  0.0                               0.0   \n",
       "\n",
       "    How widely used or impactful my work output would be  \\\n",
       "7                                                 0.0      \n",
       "9                                                 1.0      \n",
       "10                                                0.0      \n",
       "13                                                0.0      \n",
       "16                                                0.0      \n",
       "\n",
       "    Languages, frameworks, and other technologies I’d be working with  \\\n",
       "7                                                 0.0                   \n",
       "9                                                 0.0                   \n",
       "10                                                1.0                   \n",
       "13                                                0.0                   \n",
       "16                                                1.0                   \n",
       "\n",
       "    Industry that I’d be working in  Office environment or company culture  \\\n",
       "7                               0.0                                    0.0   \n",
       "9                               0.0                                    0.0   \n",
       "10                              0.0                                    0.0   \n",
       "13                              1.0                                    1.0   \n",
       "16                              1.0                                    1.0   \n",
       "\n",
       "    Specific department or team I’d be working on  \\\n",
       "7                                             0.0   \n",
       "9                                             0.0   \n",
       "10                                            0.0   \n",
       "13                                            0.0   \n",
       "16                                            0.0   \n",
       "\n",
       "    Financial performance or funding status of the company or organization  \\\n",
       "7                                                 0.0                        \n",
       "9                                                 0.0                        \n",
       "10                                                0.0                        \n",
       "13                                                0.0                        \n",
       "16                                                0.0                        \n",
       "\n",
       "    Diversity of the company or organization  \n",
       "7                                        0.0  \n",
       "9                                        0.0  \n",
       "10                                       0.0  \n",
       "13                                       0.0  \n",
       "16                                       0.0  "
      ]
     },
     "execution_count": 45,
     "metadata": {},
     "output_type": "execute_result"
    }
   ],
   "source": [
    "# remove rows with all columns NaN\n",
    "missing_sum = job_factors.isnull().sum(axis = 1)\n",
    "job_factors = job_factors[missing_sum / job_factors.shape[1] < 1]\n",
    "\n",
    "# fill NaNs with 0\n",
    "job_factors = job_factors.fillna(0)\n",
    "job_factors.head()"
   ]
  },
  {
   "cell_type": "code",
   "execution_count": 46,
   "metadata": {},
   "outputs": [],
   "source": [
    "# replacing string values to numeric\n",
    "df['YearsCode'].replace('Less than 1 year', 0, inplace=True)\n",
    "df['YearsCode'].replace('More than 50 years', 55, inplace=True) \n",
    "df['YearsCodePro'].replace('Less than 1 year', 0, inplace=True)\n",
    "df['YearsCodePro'].replace('More than 50 years', 55, inplace=True) "
   ]
  },
  {
   "cell_type": "code",
   "execution_count": 47,
   "metadata": {},
   "outputs": [],
   "source": [
    "# converting data type of YearsCode and YearsCodePro from string to numeric\n",
    "df['YearsCode'] = pd.to_numeric(df['YearsCode'])\n",
    "df['YearsCodePro'] = pd.to_numeric(df['YearsCode'])"
   ]
  },
  {
   "cell_type": "code",
   "execution_count": 48,
   "metadata": {},
   "outputs": [
    {
     "data": {
      "text/plain": [
       "(dtype('int64'), dtype('int64'))"
      ]
     },
     "execution_count": 48,
     "metadata": {},
     "output_type": "execute_result"
    }
   ],
   "source": [
    "df['YearsCode'].dtype, df['YearsCodePro'].dtype"
   ]
  },
  {
   "cell_type": "code",
   "execution_count": 49,
   "metadata": {
    "scrolled": true
   },
   "outputs": [
    {
     "data": {
      "text/html": [
       "<div>\n",
       "<style scoped>\n",
       "    .dataframe tbody tr th:only-of-type {\n",
       "        vertical-align: middle;\n",
       "    }\n",
       "\n",
       "    .dataframe tbody tr th {\n",
       "        vertical-align: top;\n",
       "    }\n",
       "\n",
       "    .dataframe thead th {\n",
       "        text-align: right;\n",
       "    }\n",
       "</style>\n",
       "<table border=\"1\" class=\"dataframe\">\n",
       "  <thead>\n",
       "    <tr style=\"text-align: right;\">\n",
       "      <th></th>\n",
       "      <th>Respondent</th>\n",
       "      <th>Gender</th>\n",
       "      <th>Age</th>\n",
       "      <th>JobFactors</th>\n",
       "      <th>DatabaseWorkedWith</th>\n",
       "      <th>DatabaseDesireNextYear</th>\n",
       "      <th>YearsCode</th>\n",
       "      <th>YearsCodePro</th>\n",
       "      <th>SOVisitFreq</th>\n",
       "      <th>MainBranch</th>\n",
       "      <th>Hobbyist</th>\n",
       "      <th>Country</th>\n",
       "      <th>JobSeek</th>\n",
       "    </tr>\n",
       "  </thead>\n",
       "  <tbody>\n",
       "    <tr>\n",
       "      <th>7</th>\n",
       "      <td>8</td>\n",
       "      <td>Male</td>\n",
       "      <td>36.0</td>\n",
       "      <td>Remote work options;Opportunities for professi...</td>\n",
       "      <td>MariaDB;MySQL;Redis</td>\n",
       "      <td>MongoDB</td>\n",
       "      <td>17</td>\n",
       "      <td>17</td>\n",
       "      <td>Multiple times per day</td>\n",
       "      <td>I am a developer by profession</td>\n",
       "      <td>Yes</td>\n",
       "      <td>United States</td>\n",
       "      <td>I’m not actively looking, but I am open to new...</td>\n",
       "    </tr>\n",
       "    <tr>\n",
       "      <th>9</th>\n",
       "      <td>10</td>\n",
       "      <td>Male</td>\n",
       "      <td>22.0</td>\n",
       "      <td>Flex time or a flexible schedule;How widely us...</td>\n",
       "      <td>Microsoft SQL Server</td>\n",
       "      <td>Microsoft SQL Server</td>\n",
       "      <td>8</td>\n",
       "      <td>8</td>\n",
       "      <td>Multiple times per day</td>\n",
       "      <td>I am a developer by profession</td>\n",
       "      <td>Yes</td>\n",
       "      <td>United Kingdom</td>\n",
       "      <td>I’m not actively looking, but I am open to new...</td>\n",
       "    </tr>\n",
       "    <tr>\n",
       "      <th>10</th>\n",
       "      <td>11</td>\n",
       "      <td>Male</td>\n",
       "      <td>23.0</td>\n",
       "      <td>Flex time or a flexible schedule;Languages, fr...</td>\n",
       "      <td>Firebase;MongoDB;PostgreSQL;SQLite</td>\n",
       "      <td>Firebase;MongoDB;PostgreSQL</td>\n",
       "      <td>10</td>\n",
       "      <td>10</td>\n",
       "      <td>Multiple times per day</td>\n",
       "      <td>I am a developer by profession</td>\n",
       "      <td>Yes</td>\n",
       "      <td>United Kingdom</td>\n",
       "      <td>I am actively looking for a job</td>\n",
       "    </tr>\n",
       "  </tbody>\n",
       "</table>\n",
       "</div>"
      ],
      "text/plain": [
       "    Respondent Gender   Age  \\\n",
       "7            8   Male  36.0   \n",
       "9           10   Male  22.0   \n",
       "10          11   Male  23.0   \n",
       "\n",
       "                                           JobFactors  \\\n",
       "7   Remote work options;Opportunities for professi...   \n",
       "9   Flex time or a flexible schedule;How widely us...   \n",
       "10  Flex time or a flexible schedule;Languages, fr...   \n",
       "\n",
       "                    DatabaseWorkedWith       DatabaseDesireNextYear  \\\n",
       "7                  MariaDB;MySQL;Redis                      MongoDB   \n",
       "9                 Microsoft SQL Server         Microsoft SQL Server   \n",
       "10  Firebase;MongoDB;PostgreSQL;SQLite  Firebase;MongoDB;PostgreSQL   \n",
       "\n",
       "    YearsCode  YearsCodePro             SOVisitFreq  \\\n",
       "7          17            17  Multiple times per day   \n",
       "9           8             8  Multiple times per day   \n",
       "10         10            10  Multiple times per day   \n",
       "\n",
       "                        MainBranch Hobbyist         Country  \\\n",
       "7   I am a developer by profession      Yes   United States   \n",
       "9   I am a developer by profession      Yes  United Kingdom   \n",
       "10  I am a developer by profession      Yes  United Kingdom   \n",
       "\n",
       "                                              JobSeek  \n",
       "7   I’m not actively looking, but I am open to new...  \n",
       "9   I’m not actively looking, but I am open to new...  \n",
       "10                    I am actively looking for a job  "
      ]
     },
     "execution_count": 49,
     "metadata": {},
     "output_type": "execute_result"
    }
   ],
   "source": [
    "# create a subset of StackOverflow frequent users\n",
    "frequent_users = df[(df['SOVisitFreq'] == 'Multiple times per day') |  (df['SOVisitFreq'] == 'Daily or almost daily')]\n",
    "frequent_users.head(3)"
   ]
  },
  {
   "cell_type": "markdown",
   "metadata": {},
   "source": [
    "> I will use **frequent_users** data subset when drawing a profile of a StackOverflow user."
   ]
  },
  {
   "cell_type": "markdown",
   "metadata": {},
   "source": [
    "## Data Analysis"
   ]
  },
  {
   "cell_type": "markdown",
   "metadata": {},
   "source": [
    "> In this section, I find answers to my questions by analyzing the data. Vizualizing the data will help me to find accurate answers. "
   ]
  },
  {
   "cell_type": "markdown",
   "metadata": {},
   "source": [
    "### 1. What is the most popular database in 2020?"
   ]
  },
  {
   "cell_type": "code",
   "execution_count": 50,
   "metadata": {},
   "outputs": [
    {
     "data": {
      "image/png": "[encoded data removed]",
      "text/plain": [
       "<Figure size 720x576 with 1 Axes>"
      ]
     },
     "metadata": {
      "needs_background": "light"
     },
     "output_type": "display_data"
    }
   ],
   "source": [
    "# Number of users for databases desired next year\n",
    "ax = pop_dbs.sum().sort_values(ascending=True).plot(kind=\"barh\", figsize=(10, 8), color=sns.color_palette(\"husl\", 8));\n",
    "ax.set_xlabel(\"Databases\")\n",
    "ax.set_ylabel(\"Count\")\n",
    "ax.set_title('Populararity of Databases in 2020');"
   ]
  },
  {
   "cell_type": "code",
   "execution_count": 51,
   "metadata": {},
   "outputs": [
    {
     "data": {
      "image/png": "[encoded data removed]",
      "text/plain": [
       "<Figure size 720x576 with 1 Axes>"
      ]
     },
     "metadata": {
      "needs_background": "light"
     },
     "output_type": "display_data"
    }
   ],
   "source": [
    "# Number of users for databases desired next year\n",
    "ax = desired_dbs.sum().sort_values(ascending=True).plot(kind=\"barh\", figsize=(10, 8), color=sns.color_palette(\"husl\", 8));\n",
    "ax.set_xlabel(\"Databases\")\n",
    "ax.set_ylabel(\"Count\")\n",
    "ax.set_title('Populararity of Databases Desired Next Year');"
   ]
  },
  {
   "cell_type": "markdown",
   "metadata": {},
   "source": [
    "### 2. What is the profile of StackOverflow frequent users?"
   ]
  },
  {
   "cell_type": "code",
   "execution_count": 52,
   "metadata": {
    "scrolled": true
   },
   "outputs": [
    {
     "data": {
      "image/png": "[encoded data removed]",
      "text/plain": [
       "<Figure size 432x288 with 1 Axes>"
      ]
     },
     "metadata": {
      "needs_background": "light"
     },
     "output_type": "display_data"
    }
   ],
   "source": [
    "df.groupby(['SOVisitFreq'])['YearsCode'].count().sort_values(ascending=True).plot(kind='barh', color='tan');\n",
    "plt.xlabel('Count');\n",
    "plt.title('Breakdown of StackOverflow Visits by StackOverflow Visit Frequencies');"
   ]
  },
  {
   "cell_type": "code",
   "execution_count": 53,
   "metadata": {
    "scrolled": true
   },
   "outputs": [
    {
     "data": {
      "image/png": "[encoded data removed]",
      "text/plain": [
       "<Figure size 576x360 with 1 Axes>"
      ]
     },
     "metadata": {
      "needs_background": "light"
     },
     "output_type": "display_data"
    }
   ],
   "source": [
    "df[['SOVisitFreq', 'Gender']].groupby(['Gender']).count().plot(kind=\"bar\",  figsize=(8,5),color='teal');\n",
    "plt.title('StackOverflow Visit Frequency by Gender');\n",
    "plt.ylabel('Count');\n",
    "plt.xticks(rotation=-1);"
   ]
  },
  {
   "cell_type": "code",
   "execution_count": 54,
   "metadata": {},
   "outputs": [
    {
     "data": {
      "image/png": "[encoded data removed]",
      "text/plain": [
       "<Figure size 432x288 with 1 Axes>"
      ]
     },
     "metadata": {
      "needs_background": "light"
     },
     "output_type": "display_data"
    }
   ],
   "source": [
    "# Multi-bar Plot\n",
    "sns.countplot(y=\"SOVisitFreq\", hue=\"Gender\", data=df, palette=\"Set2\")\n",
    "plt.xlabel(\"Count\");\n",
    "plt.title('Breakdown of StackOverflow Visit Frequency by Gender');"
   ]
  },
  {
   "cell_type": "code",
   "execution_count": 63,
   "metadata": {
    "scrolled": false
   },
   "outputs": [
    {
     "data": {
      "image/png": "[encoded data removed]",
      "text/plain": [
       "<Figure size 576x360 with 1 Axes>"
      ]
     },
     "metadata": {
      "needs_background": "light"
     },
     "output_type": "display_data"
    }
   ],
   "source": [
    "frequent_users.groupby(['YearsCode'])['SOVisitFreq'].count().sort_values(ascending=False).head(20).plot(kind='bar', \\\n",
    "                                                                             figsize=(8, 5), color='darkcyan');\n",
    "plt.xticks(rotation=-1);\n",
    "plt.ylabel('Count');\n",
    "plt.title('Number of StackOverflow frequent users by Years of Coding');"
   ]
  },
  {
   "cell_type": "code",
   "execution_count": 64,
   "metadata": {
    "scrolled": true
   },
   "outputs": [
    {
     "data": {
      "image/png": "[encoded data removed]",
      "text/plain": [
       "<Figure size 576x360 with 1 Axes>"
      ]
     },
     "metadata": {
      "needs_background": "light"
     },
     "output_type": "display_data"
    }
   ],
   "source": [
    "frequent_users.groupby(['YearsCodePro'])['SOVisitFreq'].count().sort_values(ascending=False).head(20).plot(kind='bar',\\\n",
    "                                                                                        figsize=(8, 5), color='cadetblue');\n",
    "plt.xticks(rotation=-1);\n",
    "plt.ylabel('Count');\n",
    "plt.title('Number of StackOverflow frequent users by Years of Professional Coding');"
   ]
  },
  {
   "cell_type": "code",
   "execution_count": 57,
   "metadata": {},
   "outputs": [
    {
     "data": {
      "image/png": "[encoded data removed]",
      "text/plain": [
       "<Figure size 576x360 with 1 Axes>"
      ]
     },
     "metadata": {
      "needs_background": "light"
     },
     "output_type": "display_data"
    }
   ],
   "source": [
    "frequent_users['Age'].hist(figsize= (8, 5), color='rosybrown');\n",
    "plt.title('StackOverflow frequent users by Age');\n",
    "plt.xlabel('Age');\n",
    "plt.ylabel('Count');"
   ]
  },
  {
   "cell_type": "code",
   "execution_count": 58,
   "metadata": {},
   "outputs": [
    {
     "data": {
      "image/png": "[encoded data removed]",
      "text/plain": [
       "<Figure size 432x288 with 1 Axes>"
      ]
     },
     "metadata": {
      "needs_background": "light"
     },
     "output_type": "display_data"
    }
   ],
   "source": [
    "frequent_users.groupby(['MainBranch'])['SOVisitFreq'].count().sort_values(ascending=True).plot(kind='barh', \\\n",
    "                                                                                            color='olivedrab');\n",
    "plt.title('StackOverflow frequent users by Main Branch of Profession');\n",
    "plt.xlabel('Count');"
   ]
  },
  {
   "cell_type": "code",
   "execution_count": 59,
   "metadata": {},
   "outputs": [
    {
     "data": {
      "image/png": "[encoded data removed]",
      "text/plain": [
       "<Figure size 720x576 with 1 Axes>"
      ]
     },
     "metadata": {
      "needs_background": "light"
     },
     "output_type": "display_data"
    }
   ],
   "source": [
    "frequent_users.groupby(['Country'])['SOVisitFreq'].count().sort_values(ascending=False).head(10).plot(kind='bar',\\\n",
    "                                                                                    figsize=(10,8), color='darkseagreen');\n",
    "plt.xticks(rotation=45);\n",
    "plt.xlabel('Country');\n",
    "plt.ylabel('Count');\n",
    "plt.title('StackOverflow frequent users by Country');"
   ]
  },
  {
   "cell_type": "code",
   "execution_count": 60,
   "metadata": {},
   "outputs": [
    {
     "data": {
      "image/png": "[encoded data removed]",
      "text/plain": [
       "<Figure size 432x288 with 1 Axes>"
      ]
     },
     "metadata": {},
     "output_type": "display_data"
    }
   ],
   "source": [
    "frequent_users.groupby(['Hobbyist'])['SOVisitFreq'].count().plot(kind='pie', colors=['thistle','mediumorchid']);\n",
    "plt.title('StackOverflow frequent users by Hobbyist');"
   ]
  },
  {
   "cell_type": "code",
   "execution_count": 61,
   "metadata": {},
   "outputs": [
    {
     "data": {
      "image/png": "[encoded data removed]",
      "text/plain": [
       "<Figure size 576x360 with 1 Axes>"
      ]
     },
     "metadata": {
      "needs_background": "light"
     },
     "output_type": "display_data"
    }
   ],
   "source": [
    "frequent_users.groupby(['JobSeek'])['SOVisitFreq'].count().sort_values(ascending=True).plot(kind='barh', \\\n",
    "                                                                        color='steelblue', figsize=(8,5));\n",
    "plt.title('StackOverflow frequent users by Job Seeking Status');\n",
    "plt.xlabel('Count');"
   ]
  },
  {
   "cell_type": "markdown",
   "metadata": {},
   "source": [
    "### 3. What is the most important job factor for developers in 2020?"
   ]
  },
  {
   "cell_type": "code",
   "execution_count": 62,
   "metadata": {
    "scrolled": true
   },
   "outputs": [
    {
     "data": {
      "image/png": "[encoded data removed]",
      "text/plain": [
       "<Figure size 720x360 with 1 Axes>"
      ]
     },
     "metadata": {
      "needs_background": "light"
     },
     "output_type": "display_data"
    }
   ],
   "source": [
    "# Number of users voted for each category of JobFactors\n",
    "ax = job_factors.sum().sort_values(ascending=True).plot(kind=\"barh\", figsize=(10, 5), color='burlywood');\n",
    "ax.set_xlabel(\"Count\")\n",
    "ax.set_ylabel(\"Job Factors\")\n",
    "ax.set_title('Popularity of Factors Developers Consider in a Job');"
   ]
  },
  {
   "cell_type": "code",
   "execution_count": null,
   "metadata": {},
   "outputs": [],
   "source": []
  }
 ],
 "metadata": {
  "kernelspec": {
   "display_name": "Python [conda env:test_env]",
   "language": "python",
   "name": "conda-env-test_env-py"
  },
  "language_info": {
   "codemirror_mode": {
    "name": "ipython",
    "version": 3
   },
   "file_extension": ".py",
   "mimetype": "text/x-python",
   "name": "python",
   "nbconvert_exporter": "python",
   "pygments_lexer": "ipython3",
   "version": "3.8.3"
  }
 },
 "nbformat": 4,
 "nbformat_minor": 4
}
